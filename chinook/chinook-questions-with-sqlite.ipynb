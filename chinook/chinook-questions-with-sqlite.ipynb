{
 "cells": [
  {
   "cell_type": "markdown",
   "metadata": {
    "papermill": {
     "duration": 0.028978,
     "end_time": "2021-01-31T06:58:37.118311",
     "exception": false,
     "start_time": "2021-01-31T06:58:37.089333",
     "status": "completed"
    },
    "tags": []
   },
   "source": [
    "<h3>Chinook Questions</h3><br>\n",
    "<b><li>This database includes several tables on invoice information, track, album, artist and genre data, and employee and customer information related to the store's sales. We will use this database and the sqlite3 module in order to explore and answer some questions.</li><b>\n",
    "<img src=\"https://docs.yugabyte.com/images/sample-data/chinook/chinook-er-diagram.png\" alt=\"Chinook sample database\">"
   ]
  },
  {
   "cell_type": "code",
   "execution_count": 1,
   "metadata": {
    "execution": {
     "iopub.execute_input": "2021-01-31T06:58:37.178850Z",
     "iopub.status.busy": "2021-01-31T06:58:37.177897Z",
     "iopub.status.idle": "2021-01-31T06:58:37.182418Z",
     "shell.execute_reply": "2021-01-31T06:58:37.182940Z"
    },
    "papermill": {
     "duration": 0.03687,
     "end_time": "2021-01-31T06:58:37.183138",
     "exception": false,
     "start_time": "2021-01-31T06:58:37.146268",
     "status": "completed"
    },
    "tags": []
   },
   "outputs": [],
   "source": [
    "import pandas as pd\n",
    "import sqlite3 \n",
    "import os"
   ]
  },
  {
   "cell_type": "code",
   "execution_count": 2,
   "metadata": {
    "execution": {
     "iopub.execute_input": "2021-01-31T06:58:37.241498Z",
     "iopub.status.busy": "2021-01-31T06:58:37.240443Z",
     "iopub.status.idle": "2021-01-31T06:58:37.263991Z",
     "shell.execute_reply": "2021-01-31T06:58:37.264509Z"
    },
    "papermill": {
     "duration": 0.053986,
     "end_time": "2021-01-31T06:58:37.264646",
     "exception": false,
     "start_time": "2021-01-31T06:58:37.210660",
     "status": "completed"
    },
    "tags": []
   },
   "outputs": [],
   "source": [
    "conn = sqlite3.connect('../input/chinook-music-store-data/chinook.db')\n",
    "c = conn.cursor()"
   ]
  },
  {
   "cell_type": "code",
   "execution_count": 3,
   "metadata": {
    "execution": {
     "iopub.execute_input": "2021-01-31T06:58:37.325785Z",
     "iopub.status.busy": "2021-01-31T06:58:37.324750Z",
     "iopub.status.idle": "2021-01-31T06:58:37.331937Z",
     "shell.execute_reply": "2021-01-31T06:58:37.332495Z"
    },
    "papermill": {
     "duration": 0.039013,
     "end_time": "2021-01-31T06:58:37.332653",
     "exception": false,
     "start_time": "2021-01-31T06:58:37.293640",
     "status": "completed"
    },
    "tags": []
   },
   "outputs": [],
   "source": [
    "def sq(q):\n",
    "    return pd.read_sql_query(q, conn).rename(columns = lambda x:x.replace(' ','_').capitalize())"
   ]
  },
  {
   "cell_type": "code",
   "execution_count": 4,
   "metadata": {
    "execution": {
     "iopub.execute_input": "2021-01-31T06:58:37.393229Z",
     "iopub.status.busy": "2021-01-31T06:58:37.391914Z",
     "iopub.status.idle": "2021-01-31T06:58:37.396717Z",
     "shell.execute_reply": "2021-01-31T06:58:37.397480Z"
    },
    "papermill": {
     "duration": 0.036293,
     "end_time": "2021-01-31T06:58:37.397672",
     "exception": false,
     "start_time": "2021-01-31T06:58:37.361379",
     "status": "completed"
    },
    "tags": []
   },
   "outputs": [],
   "source": [
    "#Lets show our tables "
   ]
  },
  {
   "cell_type": "code",
   "execution_count": 5,
   "metadata": {
    "execution": {
     "iopub.execute_input": "2021-01-31T06:58:37.457925Z",
     "iopub.status.busy": "2021-01-31T06:58:37.456981Z",
     "iopub.status.idle": "2021-01-31T06:58:37.494752Z",
     "shell.execute_reply": "2021-01-31T06:58:37.494098Z"
    },
    "papermill": {
     "duration": 0.068435,
     "end_time": "2021-01-31T06:58:37.494869",
     "exception": false,
     "start_time": "2021-01-31T06:58:37.426434",
     "status": "completed"
    },
    "tags": []
   },
   "outputs": [
    {
     "data": {
      "text/html": [
       "<div>\n",
       "<style scoped>\n",
       "    .dataframe tbody tr th:only-of-type {\n",
       "        vertical-align: middle;\n",
       "    }\n",
       "\n",
       "    .dataframe tbody tr th {\n",
       "        vertical-align: top;\n",
       "    }\n",
       "\n",
       "    .dataframe thead th {\n",
       "        text-align: right;\n",
       "    }\n",
       "</style>\n",
       "<table border=\"1\" class=\"dataframe\">\n",
       "  <thead>\n",
       "    <tr style=\"text-align: right;\">\n",
       "      <th></th>\n",
       "      <th>Name</th>\n",
       "      <th>Type</th>\n",
       "    </tr>\n",
       "  </thead>\n",
       "  <tbody>\n",
       "    <tr>\n",
       "      <th>0</th>\n",
       "      <td>album</td>\n",
       "      <td>table</td>\n",
       "    </tr>\n",
       "    <tr>\n",
       "      <th>1</th>\n",
       "      <td>artist</td>\n",
       "      <td>table</td>\n",
       "    </tr>\n",
       "    <tr>\n",
       "      <th>2</th>\n",
       "      <td>customer</td>\n",
       "      <td>table</td>\n",
       "    </tr>\n",
       "    <tr>\n",
       "      <th>3</th>\n",
       "      <td>employee</td>\n",
       "      <td>table</td>\n",
       "    </tr>\n",
       "    <tr>\n",
       "      <th>4</th>\n",
       "      <td>genre</td>\n",
       "      <td>table</td>\n",
       "    </tr>\n",
       "    <tr>\n",
       "      <th>5</th>\n",
       "      <td>invoice</td>\n",
       "      <td>table</td>\n",
       "    </tr>\n",
       "    <tr>\n",
       "      <th>6</th>\n",
       "      <td>invoice_line</td>\n",
       "      <td>table</td>\n",
       "    </tr>\n",
       "    <tr>\n",
       "      <th>7</th>\n",
       "      <td>media_type</td>\n",
       "      <td>table</td>\n",
       "    </tr>\n",
       "    <tr>\n",
       "      <th>8</th>\n",
       "      <td>playlist</td>\n",
       "      <td>table</td>\n",
       "    </tr>\n",
       "    <tr>\n",
       "      <th>9</th>\n",
       "      <td>playlist_track</td>\n",
       "      <td>table</td>\n",
       "    </tr>\n",
       "    <tr>\n",
       "      <th>10</th>\n",
       "      <td>track</td>\n",
       "      <td>table</td>\n",
       "    </tr>\n",
       "  </tbody>\n",
       "</table>\n",
       "</div>"
      ],
      "text/plain": [
       "              Name   Type\n",
       "0            album  table\n",
       "1           artist  table\n",
       "2         customer  table\n",
       "3         employee  table\n",
       "4            genre  table\n",
       "5          invoice  table\n",
       "6     invoice_line  table\n",
       "7       media_type  table\n",
       "8         playlist  table\n",
       "9   playlist_track  table\n",
       "10           track  table"
      ]
     },
     "execution_count": 5,
     "metadata": {},
     "output_type": "execute_result"
    }
   ],
   "source": [
    "tables = sq('''select Name,type\n",
    "               from sqlite_master \n",
    "               where type='table' ''')\n",
    "tables"
   ]
  },
  {
   "cell_type": "code",
   "execution_count": 6,
   "metadata": {
    "execution": {
     "iopub.execute_input": "2021-01-31T06:58:37.556649Z",
     "iopub.status.busy": "2021-01-31T06:58:37.555890Z",
     "iopub.status.idle": "2021-01-31T06:58:37.576533Z",
     "shell.execute_reply": "2021-01-31T06:58:37.577064Z"
    },
    "papermill": {
     "duration": 0.053908,
     "end_time": "2021-01-31T06:58:37.577207",
     "exception": false,
     "start_time": "2021-01-31T06:58:37.523299",
     "status": "completed"
    },
    "tags": []
   },
   "outputs": [
    {
     "data": {
      "text/html": [
       "<div>\n",
       "<style scoped>\n",
       "    .dataframe tbody tr th:only-of-type {\n",
       "        vertical-align: middle;\n",
       "    }\n",
       "\n",
       "    .dataframe tbody tr th {\n",
       "        vertical-align: top;\n",
       "    }\n",
       "\n",
       "    .dataframe thead th {\n",
       "        text-align: right;\n",
       "    }\n",
       "</style>\n",
       "<table border=\"1\" class=\"dataframe\">\n",
       "  <thead>\n",
       "    <tr style=\"text-align: right;\">\n",
       "      <th></th>\n",
       "      <th>Album_id</th>\n",
       "      <th>Title</th>\n",
       "      <th>Artist_id</th>\n",
       "    </tr>\n",
       "  </thead>\n",
       "  <tbody>\n",
       "    <tr>\n",
       "      <th>0</th>\n",
       "      <td>1</td>\n",
       "      <td>For Those About To Rock We Salute You</td>\n",
       "      <td>1</td>\n",
       "    </tr>\n",
       "    <tr>\n",
       "      <th>1</th>\n",
       "      <td>2</td>\n",
       "      <td>Balls to the Wall</td>\n",
       "      <td>2</td>\n",
       "    </tr>\n",
       "    <tr>\n",
       "      <th>2</th>\n",
       "      <td>3</td>\n",
       "      <td>Restless and Wild</td>\n",
       "      <td>2</td>\n",
       "    </tr>\n",
       "    <tr>\n",
       "      <th>3</th>\n",
       "      <td>4</td>\n",
       "      <td>Let There Be Rock</td>\n",
       "      <td>1</td>\n",
       "    </tr>\n",
       "    <tr>\n",
       "      <th>4</th>\n",
       "      <td>5</td>\n",
       "      <td>Big Ones</td>\n",
       "      <td>3</td>\n",
       "    </tr>\n",
       "  </tbody>\n",
       "</table>\n",
       "</div>"
      ],
      "text/plain": [
       "   Album_id                                  Title  Artist_id\n",
       "0         1  For Those About To Rock We Salute You          1\n",
       "1         2                      Balls to the Wall          2\n",
       "2         3                      Restless and Wild          2\n",
       "3         4                      Let There Be Rock          1\n",
       "4         5                               Big Ones          3"
      ]
     },
     "execution_count": 6,
     "metadata": {},
     "output_type": "execute_result"
    }
   ],
   "source": [
    "album = sq('''select * from album''')\n",
    "album.head()"
   ]
  },
  {
   "cell_type": "code",
   "execution_count": 7,
   "metadata": {
    "execution": {
     "iopub.execute_input": "2021-01-31T06:58:37.640614Z",
     "iopub.status.busy": "2021-01-31T06:58:37.639013Z",
     "iopub.status.idle": "2021-01-31T06:58:37.657126Z",
     "shell.execute_reply": "2021-01-31T06:58:37.657560Z"
    },
    "papermill": {
     "duration": 0.050899,
     "end_time": "2021-01-31T06:58:37.657710",
     "exception": false,
     "start_time": "2021-01-31T06:58:37.606811",
     "status": "completed"
    },
    "tags": []
   },
   "outputs": [
    {
     "data": {
      "text/html": [
       "<div>\n",
       "<style scoped>\n",
       "    .dataframe tbody tr th:only-of-type {\n",
       "        vertical-align: middle;\n",
       "    }\n",
       "\n",
       "    .dataframe tbody tr th {\n",
       "        vertical-align: top;\n",
       "    }\n",
       "\n",
       "    .dataframe thead th {\n",
       "        text-align: right;\n",
       "    }\n",
       "</style>\n",
       "<table border=\"1\" class=\"dataframe\">\n",
       "  <thead>\n",
       "    <tr style=\"text-align: right;\">\n",
       "      <th></th>\n",
       "      <th>Artist_id</th>\n",
       "      <th>Name</th>\n",
       "    </tr>\n",
       "  </thead>\n",
       "  <tbody>\n",
       "    <tr>\n",
       "      <th>0</th>\n",
       "      <td>1</td>\n",
       "      <td>AC/DC</td>\n",
       "    </tr>\n",
       "    <tr>\n",
       "      <th>1</th>\n",
       "      <td>2</td>\n",
       "      <td>Accept</td>\n",
       "    </tr>\n",
       "    <tr>\n",
       "      <th>2</th>\n",
       "      <td>3</td>\n",
       "      <td>Aerosmith</td>\n",
       "    </tr>\n",
       "    <tr>\n",
       "      <th>3</th>\n",
       "      <td>4</td>\n",
       "      <td>Alanis Morissette</td>\n",
       "    </tr>\n",
       "    <tr>\n",
       "      <th>4</th>\n",
       "      <td>5</td>\n",
       "      <td>Alice In Chains</td>\n",
       "    </tr>\n",
       "  </tbody>\n",
       "</table>\n",
       "</div>"
      ],
      "text/plain": [
       "   Artist_id               Name\n",
       "0          1              AC/DC\n",
       "1          2             Accept\n",
       "2          3          Aerosmith\n",
       "3          4  Alanis Morissette\n",
       "4          5    Alice In Chains"
      ]
     },
     "execution_count": 7,
     "metadata": {},
     "output_type": "execute_result"
    }
   ],
   "source": [
    "artist = sq('''select * from Artist''')\n",
    "artist.head()"
   ]
  },
  {
   "cell_type": "code",
   "execution_count": 8,
   "metadata": {
    "execution": {
     "iopub.execute_input": "2021-01-31T06:58:37.720580Z",
     "iopub.status.busy": "2021-01-31T06:58:37.719958Z",
     "iopub.status.idle": "2021-01-31T06:58:37.743676Z",
     "shell.execute_reply": "2021-01-31T06:58:37.744160Z"
    },
    "papermill": {
     "duration": 0.057792,
     "end_time": "2021-01-31T06:58:37.744306",
     "exception": false,
     "start_time": "2021-01-31T06:58:37.686514",
     "status": "completed"
    },
    "tags": []
   },
   "outputs": [
    {
     "data": {
      "text/html": [
       "<div>\n",
       "<style scoped>\n",
       "    .dataframe tbody tr th:only-of-type {\n",
       "        vertical-align: middle;\n",
       "    }\n",
       "\n",
       "    .dataframe tbody tr th {\n",
       "        vertical-align: top;\n",
       "    }\n",
       "\n",
       "    .dataframe thead th {\n",
       "        text-align: right;\n",
       "    }\n",
       "</style>\n",
       "<table border=\"1\" class=\"dataframe\">\n",
       "  <thead>\n",
       "    <tr style=\"text-align: right;\">\n",
       "      <th></th>\n",
       "      <th>Customer_id</th>\n",
       "      <th>First_name</th>\n",
       "      <th>Last_name</th>\n",
       "      <th>Company</th>\n",
       "      <th>Address</th>\n",
       "      <th>City</th>\n",
       "      <th>State</th>\n",
       "      <th>Country</th>\n",
       "      <th>Postal_code</th>\n",
       "      <th>Phone</th>\n",
       "      <th>Fax</th>\n",
       "      <th>Email</th>\n",
       "      <th>Support_rep_id</th>\n",
       "    </tr>\n",
       "  </thead>\n",
       "  <tbody>\n",
       "    <tr>\n",
       "      <th>0</th>\n",
       "      <td>1</td>\n",
       "      <td>Luís</td>\n",
       "      <td>Gonçalves</td>\n",
       "      <td>Embraer - Empresa Brasileira de Aeronáutica S.A.</td>\n",
       "      <td>Av. Brigadeiro Faria Lima, 2170</td>\n",
       "      <td>São José dos Campos</td>\n",
       "      <td>SP</td>\n",
       "      <td>Brazil</td>\n",
       "      <td>12227-000</td>\n",
       "      <td>+55 (12) 3923-5555</td>\n",
       "      <td>+55 (12) 3923-5566</td>\n",
       "      <td>luisg@embraer.com.br</td>\n",
       "      <td>3</td>\n",
       "    </tr>\n",
       "    <tr>\n",
       "      <th>1</th>\n",
       "      <td>2</td>\n",
       "      <td>Leonie</td>\n",
       "      <td>Köhler</td>\n",
       "      <td>None</td>\n",
       "      <td>Theodor-Heuss-Straße 34</td>\n",
       "      <td>Stuttgart</td>\n",
       "      <td>None</td>\n",
       "      <td>Germany</td>\n",
       "      <td>70174</td>\n",
       "      <td>+49 0711 2842222</td>\n",
       "      <td>None</td>\n",
       "      <td>leonekohler@surfeu.de</td>\n",
       "      <td>5</td>\n",
       "    </tr>\n",
       "    <tr>\n",
       "      <th>2</th>\n",
       "      <td>3</td>\n",
       "      <td>François</td>\n",
       "      <td>Tremblay</td>\n",
       "      <td>None</td>\n",
       "      <td>1498 rue Bélanger</td>\n",
       "      <td>Montréal</td>\n",
       "      <td>QC</td>\n",
       "      <td>Canada</td>\n",
       "      <td>H2G 1A7</td>\n",
       "      <td>+1 (514) 721-4711</td>\n",
       "      <td>None</td>\n",
       "      <td>ftremblay@gmail.com</td>\n",
       "      <td>3</td>\n",
       "    </tr>\n",
       "    <tr>\n",
       "      <th>3</th>\n",
       "      <td>4</td>\n",
       "      <td>Bjørn</td>\n",
       "      <td>Hansen</td>\n",
       "      <td>None</td>\n",
       "      <td>Ullevålsveien 14</td>\n",
       "      <td>Oslo</td>\n",
       "      <td>None</td>\n",
       "      <td>Norway</td>\n",
       "      <td>0171</td>\n",
       "      <td>+47 22 44 22 22</td>\n",
       "      <td>None</td>\n",
       "      <td>bjorn.hansen@yahoo.no</td>\n",
       "      <td>4</td>\n",
       "    </tr>\n",
       "    <tr>\n",
       "      <th>4</th>\n",
       "      <td>5</td>\n",
       "      <td>František</td>\n",
       "      <td>Wichterlová</td>\n",
       "      <td>JetBrains s.r.o.</td>\n",
       "      <td>Klanova 9/506</td>\n",
       "      <td>Prague</td>\n",
       "      <td>None</td>\n",
       "      <td>Czech Republic</td>\n",
       "      <td>14700</td>\n",
       "      <td>+420 2 4172 5555</td>\n",
       "      <td>+420 2 4172 5555</td>\n",
       "      <td>frantisekw@jetbrains.com</td>\n",
       "      <td>4</td>\n",
       "    </tr>\n",
       "  </tbody>\n",
       "</table>\n",
       "</div>"
      ],
      "text/plain": [
       "   Customer_id First_name    Last_name  \\\n",
       "0            1       Luís    Gonçalves   \n",
       "1            2     Leonie       Köhler   \n",
       "2            3   François     Tremblay   \n",
       "3            4      Bjørn       Hansen   \n",
       "4            5  František  Wichterlová   \n",
       "\n",
       "                                            Company  \\\n",
       "0  Embraer - Empresa Brasileira de Aeronáutica S.A.   \n",
       "1                                              None   \n",
       "2                                              None   \n",
       "3                                              None   \n",
       "4                                  JetBrains s.r.o.   \n",
       "\n",
       "                           Address                 City State         Country  \\\n",
       "0  Av. Brigadeiro Faria Lima, 2170  São José dos Campos    SP          Brazil   \n",
       "1          Theodor-Heuss-Straße 34            Stuttgart  None         Germany   \n",
       "2                1498 rue Bélanger             Montréal    QC          Canada   \n",
       "3                 Ullevålsveien 14                 Oslo  None          Norway   \n",
       "4                    Klanova 9/506               Prague  None  Czech Republic   \n",
       "\n",
       "  Postal_code               Phone                 Fax  \\\n",
       "0   12227-000  +55 (12) 3923-5555  +55 (12) 3923-5566   \n",
       "1       70174    +49 0711 2842222                None   \n",
       "2     H2G 1A7   +1 (514) 721-4711                None   \n",
       "3        0171     +47 22 44 22 22                None   \n",
       "4       14700    +420 2 4172 5555    +420 2 4172 5555   \n",
       "\n",
       "                      Email  Support_rep_id  \n",
       "0      luisg@embraer.com.br               3  \n",
       "1     leonekohler@surfeu.de               5  \n",
       "2       ftremblay@gmail.com               3  \n",
       "3     bjorn.hansen@yahoo.no               4  \n",
       "4  frantisekw@jetbrains.com               4  "
      ]
     },
     "execution_count": 8,
     "metadata": {},
     "output_type": "execute_result"
    }
   ],
   "source": [
    "customer = sq('''select * from customer''')\n",
    "customer.head()"
   ]
  },
  {
   "cell_type": "code",
   "execution_count": 9,
   "metadata": {
    "execution": {
     "iopub.execute_input": "2021-01-31T06:58:37.809402Z",
     "iopub.status.busy": "2021-01-31T06:58:37.808491Z",
     "iopub.status.idle": "2021-01-31T06:58:37.834671Z",
     "shell.execute_reply": "2021-01-31T06:58:37.835198Z"
    },
    "papermill": {
     "duration": 0.059868,
     "end_time": "2021-01-31T06:58:37.835334",
     "exception": false,
     "start_time": "2021-01-31T06:58:37.775466",
     "status": "completed"
    },
    "tags": []
   },
   "outputs": [
    {
     "data": {
      "text/html": [
       "<div>\n",
       "<style scoped>\n",
       "    .dataframe tbody tr th:only-of-type {\n",
       "        vertical-align: middle;\n",
       "    }\n",
       "\n",
       "    .dataframe tbody tr th {\n",
       "        vertical-align: top;\n",
       "    }\n",
       "\n",
       "    .dataframe thead th {\n",
       "        text-align: right;\n",
       "    }\n",
       "</style>\n",
       "<table border=\"1\" class=\"dataframe\">\n",
       "  <thead>\n",
       "    <tr style=\"text-align: right;\">\n",
       "      <th></th>\n",
       "      <th>Employee_id</th>\n",
       "      <th>Last_name</th>\n",
       "      <th>First_name</th>\n",
       "      <th>Title</th>\n",
       "      <th>Reports_to</th>\n",
       "      <th>Birthdate</th>\n",
       "      <th>Hire_date</th>\n",
       "      <th>Address</th>\n",
       "      <th>City</th>\n",
       "      <th>State</th>\n",
       "      <th>Country</th>\n",
       "      <th>Postal_code</th>\n",
       "      <th>Phone</th>\n",
       "      <th>Fax</th>\n",
       "      <th>Email</th>\n",
       "    </tr>\n",
       "  </thead>\n",
       "  <tbody>\n",
       "    <tr>\n",
       "      <th>0</th>\n",
       "      <td>1</td>\n",
       "      <td>Adams</td>\n",
       "      <td>Andrew</td>\n",
       "      <td>General Manager</td>\n",
       "      <td>NaN</td>\n",
       "      <td>1962-02-18 00:00:00</td>\n",
       "      <td>2016-08-14 00:00:00</td>\n",
       "      <td>11120 Jasper Ave NW</td>\n",
       "      <td>Edmonton</td>\n",
       "      <td>AB</td>\n",
       "      <td>Canada</td>\n",
       "      <td>T5K 2N1</td>\n",
       "      <td>+1 (780) 428-9482</td>\n",
       "      <td>+1 (780) 428-3457</td>\n",
       "      <td>andrew@chinookcorp.com</td>\n",
       "    </tr>\n",
       "    <tr>\n",
       "      <th>1</th>\n",
       "      <td>2</td>\n",
       "      <td>Edwards</td>\n",
       "      <td>Nancy</td>\n",
       "      <td>Sales Manager</td>\n",
       "      <td>1.0</td>\n",
       "      <td>1958-12-08 00:00:00</td>\n",
       "      <td>2016-05-01 00:00:00</td>\n",
       "      <td>825 8 Ave SW</td>\n",
       "      <td>Calgary</td>\n",
       "      <td>AB</td>\n",
       "      <td>Canada</td>\n",
       "      <td>T2P 2T3</td>\n",
       "      <td>+1 (403) 262-3443</td>\n",
       "      <td>+1 (403) 262-3322</td>\n",
       "      <td>nancy@chinookcorp.com</td>\n",
       "    </tr>\n",
       "    <tr>\n",
       "      <th>2</th>\n",
       "      <td>3</td>\n",
       "      <td>Peacock</td>\n",
       "      <td>Jane</td>\n",
       "      <td>Sales Support Agent</td>\n",
       "      <td>2.0</td>\n",
       "      <td>1973-08-29 00:00:00</td>\n",
       "      <td>2017-04-01 00:00:00</td>\n",
       "      <td>1111 6 Ave SW</td>\n",
       "      <td>Calgary</td>\n",
       "      <td>AB</td>\n",
       "      <td>Canada</td>\n",
       "      <td>T2P 5M5</td>\n",
       "      <td>+1 (403) 262-3443</td>\n",
       "      <td>+1 (403) 262-6712</td>\n",
       "      <td>jane@chinookcorp.com</td>\n",
       "    </tr>\n",
       "    <tr>\n",
       "      <th>3</th>\n",
       "      <td>4</td>\n",
       "      <td>Park</td>\n",
       "      <td>Margaret</td>\n",
       "      <td>Sales Support Agent</td>\n",
       "      <td>2.0</td>\n",
       "      <td>1947-09-19 00:00:00</td>\n",
       "      <td>2017-05-03 00:00:00</td>\n",
       "      <td>683 10 Street SW</td>\n",
       "      <td>Calgary</td>\n",
       "      <td>AB</td>\n",
       "      <td>Canada</td>\n",
       "      <td>T2P 5G3</td>\n",
       "      <td>+1 (403) 263-4423</td>\n",
       "      <td>+1 (403) 263-4289</td>\n",
       "      <td>margaret@chinookcorp.com</td>\n",
       "    </tr>\n",
       "    <tr>\n",
       "      <th>4</th>\n",
       "      <td>5</td>\n",
       "      <td>Johnson</td>\n",
       "      <td>Steve</td>\n",
       "      <td>Sales Support Agent</td>\n",
       "      <td>2.0</td>\n",
       "      <td>1965-03-03 00:00:00</td>\n",
       "      <td>2017-10-17 00:00:00</td>\n",
       "      <td>7727B 41 Ave</td>\n",
       "      <td>Calgary</td>\n",
       "      <td>AB</td>\n",
       "      <td>Canada</td>\n",
       "      <td>T3B 1Y7</td>\n",
       "      <td>1 (780) 836-9987</td>\n",
       "      <td>1 (780) 836-9543</td>\n",
       "      <td>steve@chinookcorp.com</td>\n",
       "    </tr>\n",
       "  </tbody>\n",
       "</table>\n",
       "</div>"
      ],
      "text/plain": [
       "   Employee_id Last_name First_name                Title  Reports_to  \\\n",
       "0            1     Adams     Andrew      General Manager         NaN   \n",
       "1            2   Edwards      Nancy        Sales Manager         1.0   \n",
       "2            3   Peacock       Jane  Sales Support Agent         2.0   \n",
       "3            4      Park   Margaret  Sales Support Agent         2.0   \n",
       "4            5   Johnson      Steve  Sales Support Agent         2.0   \n",
       "\n",
       "             Birthdate            Hire_date              Address      City  \\\n",
       "0  1962-02-18 00:00:00  2016-08-14 00:00:00  11120 Jasper Ave NW  Edmonton   \n",
       "1  1958-12-08 00:00:00  2016-05-01 00:00:00         825 8 Ave SW   Calgary   \n",
       "2  1973-08-29 00:00:00  2017-04-01 00:00:00        1111 6 Ave SW   Calgary   \n",
       "3  1947-09-19 00:00:00  2017-05-03 00:00:00     683 10 Street SW   Calgary   \n",
       "4  1965-03-03 00:00:00  2017-10-17 00:00:00         7727B 41 Ave   Calgary   \n",
       "\n",
       "  State Country Postal_code              Phone                Fax  \\\n",
       "0    AB  Canada     T5K 2N1  +1 (780) 428-9482  +1 (780) 428-3457   \n",
       "1    AB  Canada     T2P 2T3  +1 (403) 262-3443  +1 (403) 262-3322   \n",
       "2    AB  Canada     T2P 5M5  +1 (403) 262-3443  +1 (403) 262-6712   \n",
       "3    AB  Canada     T2P 5G3  +1 (403) 263-4423  +1 (403) 263-4289   \n",
       "4    AB  Canada     T3B 1Y7   1 (780) 836-9987   1 (780) 836-9543   \n",
       "\n",
       "                      Email  \n",
       "0    andrew@chinookcorp.com  \n",
       "1     nancy@chinookcorp.com  \n",
       "2      jane@chinookcorp.com  \n",
       "3  margaret@chinookcorp.com  \n",
       "4     steve@chinookcorp.com  "
      ]
     },
     "execution_count": 9,
     "metadata": {},
     "output_type": "execute_result"
    }
   ],
   "source": [
    "employee = sq('''select * from Employee''')\n",
    "employee.head()"
   ]
  },
  {
   "cell_type": "code",
   "execution_count": 10,
   "metadata": {
    "execution": {
     "iopub.execute_input": "2021-01-31T06:58:37.900437Z",
     "iopub.status.busy": "2021-01-31T06:58:37.899508Z",
     "iopub.status.idle": "2021-01-31T06:58:37.914963Z",
     "shell.execute_reply": "2021-01-31T06:58:37.915533Z"
    },
    "papermill": {
     "duration": 0.048787,
     "end_time": "2021-01-31T06:58:37.915707",
     "exception": false,
     "start_time": "2021-01-31T06:58:37.866920",
     "status": "completed"
    },
    "tags": []
   },
   "outputs": [
    {
     "data": {
      "text/html": [
       "<div>\n",
       "<style scoped>\n",
       "    .dataframe tbody tr th:only-of-type {\n",
       "        vertical-align: middle;\n",
       "    }\n",
       "\n",
       "    .dataframe tbody tr th {\n",
       "        vertical-align: top;\n",
       "    }\n",
       "\n",
       "    .dataframe thead th {\n",
       "        text-align: right;\n",
       "    }\n",
       "</style>\n",
       "<table border=\"1\" class=\"dataframe\">\n",
       "  <thead>\n",
       "    <tr style=\"text-align: right;\">\n",
       "      <th></th>\n",
       "      <th>Genre_id</th>\n",
       "      <th>Name</th>\n",
       "    </tr>\n",
       "  </thead>\n",
       "  <tbody>\n",
       "    <tr>\n",
       "      <th>0</th>\n",
       "      <td>1</td>\n",
       "      <td>Rock</td>\n",
       "    </tr>\n",
       "    <tr>\n",
       "      <th>1</th>\n",
       "      <td>2</td>\n",
       "      <td>Jazz</td>\n",
       "    </tr>\n",
       "    <tr>\n",
       "      <th>2</th>\n",
       "      <td>3</td>\n",
       "      <td>Metal</td>\n",
       "    </tr>\n",
       "    <tr>\n",
       "      <th>3</th>\n",
       "      <td>4</td>\n",
       "      <td>Alternative &amp; Punk</td>\n",
       "    </tr>\n",
       "    <tr>\n",
       "      <th>4</th>\n",
       "      <td>5</td>\n",
       "      <td>Rock And Roll</td>\n",
       "    </tr>\n",
       "  </tbody>\n",
       "</table>\n",
       "</div>"
      ],
      "text/plain": [
       "   Genre_id                Name\n",
       "0         1                Rock\n",
       "1         2                Jazz\n",
       "2         3               Metal\n",
       "3         4  Alternative & Punk\n",
       "4         5       Rock And Roll"
      ]
     },
     "execution_count": 10,
     "metadata": {},
     "output_type": "execute_result"
    }
   ],
   "source": [
    "genre = sq('''select *from Genre''')\n",
    "genre.head()"
   ]
  },
  {
   "cell_type": "code",
   "execution_count": 11,
   "metadata": {
    "execution": {
     "iopub.execute_input": "2021-01-31T06:58:37.981226Z",
     "iopub.status.busy": "2021-01-31T06:58:37.980262Z",
     "iopub.status.idle": "2021-01-31T06:58:38.070669Z",
     "shell.execute_reply": "2021-01-31T06:58:38.070203Z"
    },
    "papermill": {
     "duration": 0.123991,
     "end_time": "2021-01-31T06:58:38.070784",
     "exception": false,
     "start_time": "2021-01-31T06:58:37.946793",
     "status": "completed"
    },
    "tags": []
   },
   "outputs": [
    {
     "data": {
      "text/html": [
       "<div>\n",
       "<style scoped>\n",
       "    .dataframe tbody tr th:only-of-type {\n",
       "        vertical-align: middle;\n",
       "    }\n",
       "\n",
       "    .dataframe tbody tr th {\n",
       "        vertical-align: top;\n",
       "    }\n",
       "\n",
       "    .dataframe thead th {\n",
       "        text-align: right;\n",
       "    }\n",
       "</style>\n",
       "<table border=\"1\" class=\"dataframe\">\n",
       "  <thead>\n",
       "    <tr style=\"text-align: right;\">\n",
       "      <th></th>\n",
       "      <th>Invoice_line_id</th>\n",
       "      <th>Invoice_id</th>\n",
       "      <th>Track_id</th>\n",
       "      <th>Unit_price</th>\n",
       "      <th>Quantity</th>\n",
       "    </tr>\n",
       "  </thead>\n",
       "  <tbody>\n",
       "    <tr>\n",
       "      <th>0</th>\n",
       "      <td>1</td>\n",
       "      <td>1</td>\n",
       "      <td>1158</td>\n",
       "      <td>0.99</td>\n",
       "      <td>1</td>\n",
       "    </tr>\n",
       "    <tr>\n",
       "      <th>1</th>\n",
       "      <td>2</td>\n",
       "      <td>1</td>\n",
       "      <td>1159</td>\n",
       "      <td>0.99</td>\n",
       "      <td>1</td>\n",
       "    </tr>\n",
       "    <tr>\n",
       "      <th>2</th>\n",
       "      <td>3</td>\n",
       "      <td>1</td>\n",
       "      <td>1160</td>\n",
       "      <td>0.99</td>\n",
       "      <td>1</td>\n",
       "    </tr>\n",
       "    <tr>\n",
       "      <th>3</th>\n",
       "      <td>4</td>\n",
       "      <td>1</td>\n",
       "      <td>1161</td>\n",
       "      <td>0.99</td>\n",
       "      <td>1</td>\n",
       "    </tr>\n",
       "    <tr>\n",
       "      <th>4</th>\n",
       "      <td>5</td>\n",
       "      <td>1</td>\n",
       "      <td>1162</td>\n",
       "      <td>0.99</td>\n",
       "      <td>1</td>\n",
       "    </tr>\n",
       "  </tbody>\n",
       "</table>\n",
       "</div>"
      ],
      "text/plain": [
       "   Invoice_line_id  Invoice_id  Track_id  Unit_price  Quantity\n",
       "0                1           1      1158        0.99         1\n",
       "1                2           1      1159        0.99         1\n",
       "2                3           1      1160        0.99         1\n",
       "3                4           1      1161        0.99         1\n",
       "4                5           1      1162        0.99         1"
      ]
     },
     "execution_count": 11,
     "metadata": {},
     "output_type": "execute_result"
    }
   ],
   "source": [
    "invoice_line = sq('''select * from invoice_line''')\n",
    "invoice_line.head()"
   ]
  },
  {
   "cell_type": "code",
   "execution_count": 12,
   "metadata": {
    "execution": {
     "iopub.execute_input": "2021-01-31T06:58:38.137249Z",
     "iopub.status.busy": "2021-01-31T06:58:38.136623Z",
     "iopub.status.idle": "2021-01-31T06:58:38.179481Z",
     "shell.execute_reply": "2021-01-31T06:58:38.178817Z"
    },
    "papermill": {
     "duration": 0.077571,
     "end_time": "2021-01-31T06:58:38.179592",
     "exception": false,
     "start_time": "2021-01-31T06:58:38.102021",
     "status": "completed"
    },
    "tags": []
   },
   "outputs": [
    {
     "data": {
      "text/html": [
       "<div>\n",
       "<style scoped>\n",
       "    .dataframe tbody tr th:only-of-type {\n",
       "        vertical-align: middle;\n",
       "    }\n",
       "\n",
       "    .dataframe tbody tr th {\n",
       "        vertical-align: top;\n",
       "    }\n",
       "\n",
       "    .dataframe thead th {\n",
       "        text-align: right;\n",
       "    }\n",
       "</style>\n",
       "<table border=\"1\" class=\"dataframe\">\n",
       "  <thead>\n",
       "    <tr style=\"text-align: right;\">\n",
       "      <th></th>\n",
       "      <th>Invoice_id</th>\n",
       "      <th>Customer_id</th>\n",
       "      <th>Invoice_date</th>\n",
       "      <th>Billing_address</th>\n",
       "      <th>Billing_city</th>\n",
       "      <th>Billing_state</th>\n",
       "      <th>Billing_country</th>\n",
       "      <th>Billing_postal_code</th>\n",
       "      <th>Total</th>\n",
       "    </tr>\n",
       "  </thead>\n",
       "  <tbody>\n",
       "    <tr>\n",
       "      <th>0</th>\n",
       "      <td>1</td>\n",
       "      <td>18</td>\n",
       "      <td>2017-01-03 00:00:00</td>\n",
       "      <td>627 Broadway</td>\n",
       "      <td>New York</td>\n",
       "      <td>NY</td>\n",
       "      <td>USA</td>\n",
       "      <td>10012-2612</td>\n",
       "      <td>15.84</td>\n",
       "    </tr>\n",
       "    <tr>\n",
       "      <th>1</th>\n",
       "      <td>2</td>\n",
       "      <td>30</td>\n",
       "      <td>2017-01-03 00:00:00</td>\n",
       "      <td>230 Elgin Street</td>\n",
       "      <td>Ottawa</td>\n",
       "      <td>ON</td>\n",
       "      <td>Canada</td>\n",
       "      <td>K2P 1L7</td>\n",
       "      <td>9.90</td>\n",
       "    </tr>\n",
       "    <tr>\n",
       "      <th>2</th>\n",
       "      <td>3</td>\n",
       "      <td>40</td>\n",
       "      <td>2017-01-05 00:00:00</td>\n",
       "      <td>8, Rue Hanovre</td>\n",
       "      <td>Paris</td>\n",
       "      <td>None</td>\n",
       "      <td>France</td>\n",
       "      <td>75002</td>\n",
       "      <td>1.98</td>\n",
       "    </tr>\n",
       "    <tr>\n",
       "      <th>3</th>\n",
       "      <td>4</td>\n",
       "      <td>18</td>\n",
       "      <td>2017-01-06 00:00:00</td>\n",
       "      <td>627 Broadway</td>\n",
       "      <td>New York</td>\n",
       "      <td>NY</td>\n",
       "      <td>USA</td>\n",
       "      <td>10012-2612</td>\n",
       "      <td>7.92</td>\n",
       "    </tr>\n",
       "    <tr>\n",
       "      <th>4</th>\n",
       "      <td>5</td>\n",
       "      <td>27</td>\n",
       "      <td>2017-01-07 00:00:00</td>\n",
       "      <td>1033 N Park Ave</td>\n",
       "      <td>Tucson</td>\n",
       "      <td>AZ</td>\n",
       "      <td>USA</td>\n",
       "      <td>85719</td>\n",
       "      <td>16.83</td>\n",
       "    </tr>\n",
       "  </tbody>\n",
       "</table>\n",
       "</div>"
      ],
      "text/plain": [
       "   Invoice_id  Customer_id         Invoice_date   Billing_address  \\\n",
       "0           1           18  2017-01-03 00:00:00      627 Broadway   \n",
       "1           2           30  2017-01-03 00:00:00  230 Elgin Street   \n",
       "2           3           40  2017-01-05 00:00:00    8, Rue Hanovre   \n",
       "3           4           18  2017-01-06 00:00:00      627 Broadway   \n",
       "4           5           27  2017-01-07 00:00:00   1033 N Park Ave   \n",
       "\n",
       "  Billing_city Billing_state Billing_country Billing_postal_code  Total  \n",
       "0     New York            NY             USA          10012-2612  15.84  \n",
       "1       Ottawa            ON          Canada             K2P 1L7   9.90  \n",
       "2        Paris          None          France               75002   1.98  \n",
       "3     New York            NY             USA          10012-2612   7.92  \n",
       "4       Tucson            AZ             USA               85719  16.83  "
      ]
     },
     "execution_count": 12,
     "metadata": {},
     "output_type": "execute_result"
    }
   ],
   "source": [
    "invoice = sq('''select * from Invoice''')\n",
    "invoice.head()"
   ]
  },
  {
   "cell_type": "code",
   "execution_count": 13,
   "metadata": {
    "execution": {
     "iopub.execute_input": "2021-01-31T06:58:38.249153Z",
     "iopub.status.busy": "2021-01-31T06:58:38.248538Z",
     "iopub.status.idle": "2021-01-31T06:58:38.262340Z",
     "shell.execute_reply": "2021-01-31T06:58:38.261695Z"
    },
    "papermill": {
     "duration": 0.051312,
     "end_time": "2021-01-31T06:58:38.262456",
     "exception": false,
     "start_time": "2021-01-31T06:58:38.211144",
     "status": "completed"
    },
    "tags": []
   },
   "outputs": [
    {
     "data": {
      "text/html": [
       "<div>\n",
       "<style scoped>\n",
       "    .dataframe tbody tr th:only-of-type {\n",
       "        vertical-align: middle;\n",
       "    }\n",
       "\n",
       "    .dataframe tbody tr th {\n",
       "        vertical-align: top;\n",
       "    }\n",
       "\n",
       "    .dataframe thead th {\n",
       "        text-align: right;\n",
       "    }\n",
       "</style>\n",
       "<table border=\"1\" class=\"dataframe\">\n",
       "  <thead>\n",
       "    <tr style=\"text-align: right;\">\n",
       "      <th></th>\n",
       "      <th>Media_type_id</th>\n",
       "      <th>Name</th>\n",
       "    </tr>\n",
       "  </thead>\n",
       "  <tbody>\n",
       "    <tr>\n",
       "      <th>0</th>\n",
       "      <td>1</td>\n",
       "      <td>MPEG audio file</td>\n",
       "    </tr>\n",
       "    <tr>\n",
       "      <th>1</th>\n",
       "      <td>2</td>\n",
       "      <td>Protected AAC audio file</td>\n",
       "    </tr>\n",
       "    <tr>\n",
       "      <th>2</th>\n",
       "      <td>3</td>\n",
       "      <td>Protected MPEG-4 video file</td>\n",
       "    </tr>\n",
       "    <tr>\n",
       "      <th>3</th>\n",
       "      <td>4</td>\n",
       "      <td>Purchased AAC audio file</td>\n",
       "    </tr>\n",
       "    <tr>\n",
       "      <th>4</th>\n",
       "      <td>5</td>\n",
       "      <td>AAC audio file</td>\n",
       "    </tr>\n",
       "  </tbody>\n",
       "</table>\n",
       "</div>"
      ],
      "text/plain": [
       "   Media_type_id                         Name\n",
       "0              1              MPEG audio file\n",
       "1              2     Protected AAC audio file\n",
       "2              3  Protected MPEG-4 video file\n",
       "3              4     Purchased AAC audio file\n",
       "4              5               AAC audio file"
      ]
     },
     "execution_count": 13,
     "metadata": {},
     "output_type": "execute_result"
    }
   ],
   "source": [
    "media_type = sq('''select * from Media_Type''')\n",
    "media_type.head()"
   ]
  },
  {
   "cell_type": "code",
   "execution_count": 14,
   "metadata": {
    "execution": {
     "iopub.execute_input": "2021-01-31T06:58:38.333438Z",
     "iopub.status.busy": "2021-01-31T06:58:38.332798Z",
     "iopub.status.idle": "2021-01-31T06:58:38.346107Z",
     "shell.execute_reply": "2021-01-31T06:58:38.345497Z"
    },
    "papermill": {
     "duration": 0.050509,
     "end_time": "2021-01-31T06:58:38.346223",
     "exception": false,
     "start_time": "2021-01-31T06:58:38.295714",
     "status": "completed"
    },
    "tags": []
   },
   "outputs": [
    {
     "data": {
      "text/html": [
       "<div>\n",
       "<style scoped>\n",
       "    .dataframe tbody tr th:only-of-type {\n",
       "        vertical-align: middle;\n",
       "    }\n",
       "\n",
       "    .dataframe tbody tr th {\n",
       "        vertical-align: top;\n",
       "    }\n",
       "\n",
       "    .dataframe thead th {\n",
       "        text-align: right;\n",
       "    }\n",
       "</style>\n",
       "<table border=\"1\" class=\"dataframe\">\n",
       "  <thead>\n",
       "    <tr style=\"text-align: right;\">\n",
       "      <th></th>\n",
       "      <th>Playlist_id</th>\n",
       "      <th>Name</th>\n",
       "    </tr>\n",
       "  </thead>\n",
       "  <tbody>\n",
       "    <tr>\n",
       "      <th>0</th>\n",
       "      <td>1</td>\n",
       "      <td>Music</td>\n",
       "    </tr>\n",
       "    <tr>\n",
       "      <th>1</th>\n",
       "      <td>2</td>\n",
       "      <td>Movies</td>\n",
       "    </tr>\n",
       "    <tr>\n",
       "      <th>2</th>\n",
       "      <td>3</td>\n",
       "      <td>TV Shows</td>\n",
       "    </tr>\n",
       "    <tr>\n",
       "      <th>3</th>\n",
       "      <td>4</td>\n",
       "      <td>Audiobooks</td>\n",
       "    </tr>\n",
       "    <tr>\n",
       "      <th>4</th>\n",
       "      <td>5</td>\n",
       "      <td>90’s Music</td>\n",
       "    </tr>\n",
       "  </tbody>\n",
       "</table>\n",
       "</div>"
      ],
      "text/plain": [
       "   Playlist_id        Name\n",
       "0            1       Music\n",
       "1            2      Movies\n",
       "2            3    TV Shows\n",
       "3            4  Audiobooks\n",
       "4            5  90’s Music"
      ]
     },
     "execution_count": 14,
     "metadata": {},
     "output_type": "execute_result"
    }
   ],
   "source": [
    "playlist = sq('''select * from Playlist''')\n",
    "playlist.head()"
   ]
  },
  {
   "cell_type": "code",
   "execution_count": 15,
   "metadata": {
    "execution": {
     "iopub.execute_input": "2021-01-31T06:58:38.415991Z",
     "iopub.status.busy": "2021-01-31T06:58:38.415399Z",
     "iopub.status.idle": "2021-01-31T06:58:38.531894Z",
     "shell.execute_reply": "2021-01-31T06:58:38.533156Z"
    },
    "papermill": {
     "duration": 0.154004,
     "end_time": "2021-01-31T06:58:38.533315",
     "exception": false,
     "start_time": "2021-01-31T06:58:38.379311",
     "status": "completed"
    },
    "tags": []
   },
   "outputs": [
    {
     "data": {
      "text/html": [
       "<div>\n",
       "<style scoped>\n",
       "    .dataframe tbody tr th:only-of-type {\n",
       "        vertical-align: middle;\n",
       "    }\n",
       "\n",
       "    .dataframe tbody tr th {\n",
       "        vertical-align: top;\n",
       "    }\n",
       "\n",
       "    .dataframe thead th {\n",
       "        text-align: right;\n",
       "    }\n",
       "</style>\n",
       "<table border=\"1\" class=\"dataframe\">\n",
       "  <thead>\n",
       "    <tr style=\"text-align: right;\">\n",
       "      <th></th>\n",
       "      <th>Playlist_id</th>\n",
       "      <th>Track_id</th>\n",
       "    </tr>\n",
       "  </thead>\n",
       "  <tbody>\n",
       "    <tr>\n",
       "      <th>0</th>\n",
       "      <td>1</td>\n",
       "      <td>3402</td>\n",
       "    </tr>\n",
       "    <tr>\n",
       "      <th>1</th>\n",
       "      <td>1</td>\n",
       "      <td>3389</td>\n",
       "    </tr>\n",
       "    <tr>\n",
       "      <th>2</th>\n",
       "      <td>1</td>\n",
       "      <td>3390</td>\n",
       "    </tr>\n",
       "    <tr>\n",
       "      <th>3</th>\n",
       "      <td>1</td>\n",
       "      <td>3391</td>\n",
       "    </tr>\n",
       "    <tr>\n",
       "      <th>4</th>\n",
       "      <td>1</td>\n",
       "      <td>3392</td>\n",
       "    </tr>\n",
       "  </tbody>\n",
       "</table>\n",
       "</div>"
      ],
      "text/plain": [
       "   Playlist_id  Track_id\n",
       "0            1      3402\n",
       "1            1      3389\n",
       "2            1      3390\n",
       "3            1      3391\n",
       "4            1      3392"
      ]
     },
     "execution_count": 15,
     "metadata": {},
     "output_type": "execute_result"
    }
   ],
   "source": [
    "playlist_track = sq('''select * from Playlist_Track''')\n",
    "playlist_track.head()"
   ]
  },
  {
   "cell_type": "code",
   "execution_count": 16,
   "metadata": {
    "execution": {
     "iopub.execute_input": "2021-01-31T06:58:38.606099Z",
     "iopub.status.busy": "2021-01-31T06:58:38.605443Z",
     "iopub.status.idle": "2021-01-31T06:58:38.655841Z",
     "shell.execute_reply": "2021-01-31T06:58:38.655300Z"
    },
    "papermill": {
     "duration": 0.086623,
     "end_time": "2021-01-31T06:58:38.655948",
     "exception": false,
     "start_time": "2021-01-31T06:58:38.569325",
     "status": "completed"
    },
    "tags": []
   },
   "outputs": [
    {
     "data": {
      "text/html": [
       "<div>\n",
       "<style scoped>\n",
       "    .dataframe tbody tr th:only-of-type {\n",
       "        vertical-align: middle;\n",
       "    }\n",
       "\n",
       "    .dataframe tbody tr th {\n",
       "        vertical-align: top;\n",
       "    }\n",
       "\n",
       "    .dataframe thead th {\n",
       "        text-align: right;\n",
       "    }\n",
       "</style>\n",
       "<table border=\"1\" class=\"dataframe\">\n",
       "  <thead>\n",
       "    <tr style=\"text-align: right;\">\n",
       "      <th></th>\n",
       "      <th>Track_id</th>\n",
       "      <th>Name</th>\n",
       "      <th>Album_id</th>\n",
       "      <th>Media_type_id</th>\n",
       "      <th>Genre_id</th>\n",
       "      <th>Composer</th>\n",
       "      <th>Milliseconds</th>\n",
       "      <th>Bytes</th>\n",
       "      <th>Unit_price</th>\n",
       "    </tr>\n",
       "  </thead>\n",
       "  <tbody>\n",
       "    <tr>\n",
       "      <th>0</th>\n",
       "      <td>1</td>\n",
       "      <td>For Those About To Rock (We Salute You)</td>\n",
       "      <td>1</td>\n",
       "      <td>1</td>\n",
       "      <td>1</td>\n",
       "      <td>Angus Young, Malcolm Young, Brian Johnson</td>\n",
       "      <td>343719</td>\n",
       "      <td>11170334</td>\n",
       "      <td>0.99</td>\n",
       "    </tr>\n",
       "    <tr>\n",
       "      <th>1</th>\n",
       "      <td>2</td>\n",
       "      <td>Balls to the Wall</td>\n",
       "      <td>2</td>\n",
       "      <td>2</td>\n",
       "      <td>1</td>\n",
       "      <td>None</td>\n",
       "      <td>342562</td>\n",
       "      <td>5510424</td>\n",
       "      <td>0.99</td>\n",
       "    </tr>\n",
       "    <tr>\n",
       "      <th>2</th>\n",
       "      <td>3</td>\n",
       "      <td>Fast As a Shark</td>\n",
       "      <td>3</td>\n",
       "      <td>2</td>\n",
       "      <td>1</td>\n",
       "      <td>F. Baltes, S. Kaufman, U. Dirkscneider &amp; W. Ho...</td>\n",
       "      <td>230619</td>\n",
       "      <td>3990994</td>\n",
       "      <td>0.99</td>\n",
       "    </tr>\n",
       "    <tr>\n",
       "      <th>3</th>\n",
       "      <td>4</td>\n",
       "      <td>Restless and Wild</td>\n",
       "      <td>3</td>\n",
       "      <td>2</td>\n",
       "      <td>1</td>\n",
       "      <td>F. Baltes, R.A. Smith-Diesel, S. Kaufman, U. D...</td>\n",
       "      <td>252051</td>\n",
       "      <td>4331779</td>\n",
       "      <td>0.99</td>\n",
       "    </tr>\n",
       "    <tr>\n",
       "      <th>4</th>\n",
       "      <td>5</td>\n",
       "      <td>Princess of the Dawn</td>\n",
       "      <td>3</td>\n",
       "      <td>2</td>\n",
       "      <td>1</td>\n",
       "      <td>Deaffy &amp; R.A. Smith-Diesel</td>\n",
       "      <td>375418</td>\n",
       "      <td>6290521</td>\n",
       "      <td>0.99</td>\n",
       "    </tr>\n",
       "  </tbody>\n",
       "</table>\n",
       "</div>"
      ],
      "text/plain": [
       "   Track_id                                     Name  Album_id  Media_type_id  \\\n",
       "0         1  For Those About To Rock (We Salute You)         1              1   \n",
       "1         2                        Balls to the Wall         2              2   \n",
       "2         3                          Fast As a Shark         3              2   \n",
       "3         4                        Restless and Wild         3              2   \n",
       "4         5                     Princess of the Dawn         3              2   \n",
       "\n",
       "   Genre_id                                           Composer  Milliseconds  \\\n",
       "0         1          Angus Young, Malcolm Young, Brian Johnson        343719   \n",
       "1         1                                               None        342562   \n",
       "2         1  F. Baltes, S. Kaufman, U. Dirkscneider & W. Ho...        230619   \n",
       "3         1  F. Baltes, R.A. Smith-Diesel, S. Kaufman, U. D...        252051   \n",
       "4         1                         Deaffy & R.A. Smith-Diesel        375418   \n",
       "\n",
       "      Bytes  Unit_price  \n",
       "0  11170334        0.99  \n",
       "1   5510424        0.99  \n",
       "2   3990994        0.99  \n",
       "3   4331779        0.99  \n",
       "4   6290521        0.99  "
      ]
     },
     "execution_count": 16,
     "metadata": {},
     "output_type": "execute_result"
    }
   ],
   "source": [
    "track = sq('''select * from Track''')\n",
    "track.head()"
   ]
  },
  {
   "cell_type": "markdown",
   "metadata": {
    "papermill": {
     "duration": 0.033676,
     "end_time": "2021-01-31T06:58:38.723113",
     "exception": false,
     "start_time": "2021-01-31T06:58:38.689437",
     "status": "completed"
    },
    "tags": []
   },
   "source": [
    "### 1-Provide a query showing Customers (just their full names, customer ID and country) who are not in the US."
   ]
  },
  {
   "cell_type": "code",
   "execution_count": 17,
   "metadata": {
    "execution": {
     "iopub.execute_input": "2021-01-31T06:58:38.796152Z",
     "iopub.status.busy": "2021-01-31T06:58:38.795554Z",
     "iopub.status.idle": "2021-01-31T06:58:38.807497Z",
     "shell.execute_reply": "2021-01-31T06:58:38.807991Z"
    },
    "papermill": {
     "duration": 0.051024,
     "end_time": "2021-01-31T06:58:38.808170",
     "exception": false,
     "start_time": "2021-01-31T06:58:38.757146",
     "status": "completed"
    },
    "tags": []
   },
   "outputs": [
    {
     "data": {
      "text/html": [
       "<div>\n",
       "<style scoped>\n",
       "    .dataframe tbody tr th:only-of-type {\n",
       "        vertical-align: middle;\n",
       "    }\n",
       "\n",
       "    .dataframe tbody tr th {\n",
       "        vertical-align: top;\n",
       "    }\n",
       "\n",
       "    .dataframe thead th {\n",
       "        text-align: right;\n",
       "    }\n",
       "</style>\n",
       "<table border=\"1\" class=\"dataframe\">\n",
       "  <thead>\n",
       "    <tr style=\"text-align: right;\">\n",
       "      <th></th>\n",
       "      <th>Name</th>\n",
       "      <th>Country</th>\n",
       "      <th>Customer_id</th>\n",
       "    </tr>\n",
       "  </thead>\n",
       "  <tbody>\n",
       "    <tr>\n",
       "      <th>0</th>\n",
       "      <td>Luís Gonçalves</td>\n",
       "      <td>Brazil</td>\n",
       "      <td>1</td>\n",
       "    </tr>\n",
       "    <tr>\n",
       "      <th>1</th>\n",
       "      <td>Leonie Köhler</td>\n",
       "      <td>Germany</td>\n",
       "      <td>2</td>\n",
       "    </tr>\n",
       "    <tr>\n",
       "      <th>2</th>\n",
       "      <td>François Tremblay</td>\n",
       "      <td>Canada</td>\n",
       "      <td>3</td>\n",
       "    </tr>\n",
       "    <tr>\n",
       "      <th>3</th>\n",
       "      <td>Bjørn Hansen</td>\n",
       "      <td>Norway</td>\n",
       "      <td>4</td>\n",
       "    </tr>\n",
       "    <tr>\n",
       "      <th>4</th>\n",
       "      <td>František Wichterlová</td>\n",
       "      <td>Czech Republic</td>\n",
       "      <td>5</td>\n",
       "    </tr>\n",
       "  </tbody>\n",
       "</table>\n",
       "</div>"
      ],
      "text/plain": [
       "                    Name         Country  Customer_id\n",
       "0         Luís Gonçalves          Brazil            1\n",
       "1          Leonie Köhler         Germany            2\n",
       "2      François Tremblay          Canada            3\n",
       "3           Bjørn Hansen          Norway            4\n",
       "4  František Wichterlová  Czech Republic            5"
      ]
     },
     "execution_count": 17,
     "metadata": {},
     "output_type": "execute_result"
    }
   ],
   "source": [
    "sq('''select First_name||' '||Last_name as Name, country, customer_id\n",
    "    from customer \n",
    "    where Country <> 'USA' ''').head() #OR (where Country != 'USA')"
   ]
  },
  {
   "cell_type": "markdown",
   "metadata": {
    "papermill": {
     "duration": 0.03423,
     "end_time": "2021-01-31T06:58:38.875790",
     "exception": false,
     "start_time": "2021-01-31T06:58:38.841560",
     "status": "completed"
    },
    "tags": []
   },
   "source": [
    "### 2-Provide a query only showing the Customers from Brazil.\n"
   ]
  },
  {
   "cell_type": "code",
   "execution_count": 18,
   "metadata": {
    "execution": {
     "iopub.execute_input": "2021-01-31T06:58:38.947200Z",
     "iopub.status.busy": "2021-01-31T06:58:38.946160Z",
     "iopub.status.idle": "2021-01-31T06:58:38.959788Z",
     "shell.execute_reply": "2021-01-31T06:58:38.959265Z"
    },
    "papermill": {
     "duration": 0.049877,
     "end_time": "2021-01-31T06:58:38.959899",
     "exception": false,
     "start_time": "2021-01-31T06:58:38.910022",
     "status": "completed"
    },
    "tags": []
   },
   "outputs": [
    {
     "data": {
      "text/html": [
       "<div>\n",
       "<style scoped>\n",
       "    .dataframe tbody tr th:only-of-type {\n",
       "        vertical-align: middle;\n",
       "    }\n",
       "\n",
       "    .dataframe tbody tr th {\n",
       "        vertical-align: top;\n",
       "    }\n",
       "\n",
       "    .dataframe thead th {\n",
       "        text-align: right;\n",
       "    }\n",
       "</style>\n",
       "<table border=\"1\" class=\"dataframe\">\n",
       "  <thead>\n",
       "    <tr style=\"text-align: right;\">\n",
       "      <th></th>\n",
       "      <th>Customer_id</th>\n",
       "      <th>Name</th>\n",
       "      <th>Country</th>\n",
       "    </tr>\n",
       "  </thead>\n",
       "  <tbody>\n",
       "    <tr>\n",
       "      <th>0</th>\n",
       "      <td>1</td>\n",
       "      <td>Luís Gonçalves</td>\n",
       "      <td>Brazil</td>\n",
       "    </tr>\n",
       "    <tr>\n",
       "      <th>1</th>\n",
       "      <td>10</td>\n",
       "      <td>Eduardo Martins</td>\n",
       "      <td>Brazil</td>\n",
       "    </tr>\n",
       "    <tr>\n",
       "      <th>2</th>\n",
       "      <td>11</td>\n",
       "      <td>Alexandre Rocha</td>\n",
       "      <td>Brazil</td>\n",
       "    </tr>\n",
       "    <tr>\n",
       "      <th>3</th>\n",
       "      <td>12</td>\n",
       "      <td>Roberto Almeida</td>\n",
       "      <td>Brazil</td>\n",
       "    </tr>\n",
       "    <tr>\n",
       "      <th>4</th>\n",
       "      <td>13</td>\n",
       "      <td>Fernanda Ramos</td>\n",
       "      <td>Brazil</td>\n",
       "    </tr>\n",
       "  </tbody>\n",
       "</table>\n",
       "</div>"
      ],
      "text/plain": [
       "   Customer_id             Name Country\n",
       "0            1   Luís Gonçalves  Brazil\n",
       "1           10  Eduardo Martins  Brazil\n",
       "2           11  Alexandre Rocha  Brazil\n",
       "3           12  Roberto Almeida  Brazil\n",
       "4           13   Fernanda Ramos  Brazil"
      ]
     },
     "execution_count": 18,
     "metadata": {},
     "output_type": "execute_result"
    }
   ],
   "source": [
    "sq('''select customer_id ,first_name||' '||last_name as Name,country \n",
    "    from customer\n",
    "    where country is 'Brazil' ''') #is ---> ="
   ]
  },
  {
   "cell_type": "markdown",
   "metadata": {
    "papermill": {
     "duration": 0.036267,
     "end_time": "2021-01-31T06:58:39.031694",
     "exception": false,
     "start_time": "2021-01-31T06:58:38.995427",
     "status": "completed"
    },
    "tags": []
   },
   "source": [
    "### 3-Provide a query showing the Invoices of customers who are from Brazil. The resultant table should show the customer's full name, Invoice ID, Date of the invoice and billing country."
   ]
  },
  {
   "cell_type": "code",
   "execution_count": 19,
   "metadata": {
    "execution": {
     "iopub.execute_input": "2021-01-31T06:58:39.105637Z",
     "iopub.status.busy": "2021-01-31T06:58:39.105090Z",
     "iopub.status.idle": "2021-01-31T06:58:39.123363Z",
     "shell.execute_reply": "2021-01-31T06:58:39.122763Z"
    },
    "papermill": {
     "duration": 0.056026,
     "end_time": "2021-01-31T06:58:39.123481",
     "exception": false,
     "start_time": "2021-01-31T06:58:39.067455",
     "status": "completed"
    },
    "tags": []
   },
   "outputs": [
    {
     "data": {
      "text/html": [
       "<div>\n",
       "<style scoped>\n",
       "    .dataframe tbody tr th:only-of-type {\n",
       "        vertical-align: middle;\n",
       "    }\n",
       "\n",
       "    .dataframe tbody tr th {\n",
       "        vertical-align: top;\n",
       "    }\n",
       "\n",
       "    .dataframe thead th {\n",
       "        text-align: right;\n",
       "    }\n",
       "</style>\n",
       "<table border=\"1\" class=\"dataframe\">\n",
       "  <thead>\n",
       "    <tr style=\"text-align: right;\">\n",
       "      <th></th>\n",
       "      <th>Customer_id</th>\n",
       "      <th>Name</th>\n",
       "      <th>Invoice_id</th>\n",
       "      <th>Invoice_date</th>\n",
       "      <th>Billing_country</th>\n",
       "    </tr>\n",
       "  </thead>\n",
       "  <tbody>\n",
       "    <tr>\n",
       "      <th>0</th>\n",
       "      <td>1</td>\n",
       "      <td>Luís Gonçalves</td>\n",
       "      <td>16</td>\n",
       "      <td>2017-01-26 00:00:00</td>\n",
       "      <td>Brazil</td>\n",
       "    </tr>\n",
       "    <tr>\n",
       "      <th>1</th>\n",
       "      <td>1</td>\n",
       "      <td>Luís Gonçalves</td>\n",
       "      <td>77</td>\n",
       "      <td>2017-05-28 00:00:00</td>\n",
       "      <td>Brazil</td>\n",
       "    </tr>\n",
       "    <tr>\n",
       "      <th>2</th>\n",
       "      <td>1</td>\n",
       "      <td>Luís Gonçalves</td>\n",
       "      <td>149</td>\n",
       "      <td>2017-11-30 00:00:00</td>\n",
       "      <td>Brazil</td>\n",
       "    </tr>\n",
       "    <tr>\n",
       "      <th>3</th>\n",
       "      <td>1</td>\n",
       "      <td>Luís Gonçalves</td>\n",
       "      <td>153</td>\n",
       "      <td>2017-12-14 00:00:00</td>\n",
       "      <td>Brazil</td>\n",
       "    </tr>\n",
       "    <tr>\n",
       "      <th>4</th>\n",
       "      <td>1</td>\n",
       "      <td>Luís Gonçalves</td>\n",
       "      <td>182</td>\n",
       "      <td>2018-02-07 00:00:00</td>\n",
       "      <td>Brazil</td>\n",
       "    </tr>\n",
       "  </tbody>\n",
       "</table>\n",
       "</div>"
      ],
      "text/plain": [
       "   Customer_id            Name  Invoice_id         Invoice_date  \\\n",
       "0            1  Luís Gonçalves          16  2017-01-26 00:00:00   \n",
       "1            1  Luís Gonçalves          77  2017-05-28 00:00:00   \n",
       "2            1  Luís Gonçalves         149  2017-11-30 00:00:00   \n",
       "3            1  Luís Gonçalves         153  2017-12-14 00:00:00   \n",
       "4            1  Luís Gonçalves         182  2018-02-07 00:00:00   \n",
       "\n",
       "  Billing_country  \n",
       "0          Brazil  \n",
       "1          Brazil  \n",
       "2          Brazil  \n",
       "3          Brazil  \n",
       "4          Brazil  "
      ]
     },
     "execution_count": 19,
     "metadata": {},
     "output_type": "execute_result"
    }
   ],
   "source": [
    "sq('''select c.customer_id, c.first_name||' '||c.last_name as Name, i.invoice_id, i.invoice_date, i.billing_country\n",
    "    from customer as c\n",
    "    join invoice as i on c.customer_id = i.customer_id \n",
    "    where country is \"Brazil\" ''').head()"
   ]
  },
  {
   "cell_type": "markdown",
   "metadata": {
    "papermill": {
     "duration": 0.034611,
     "end_time": "2021-01-31T06:58:39.193200",
     "exception": false,
     "start_time": "2021-01-31T06:58:39.158589",
     "status": "completed"
    },
    "tags": []
   },
   "source": [
    "### 4-Provide a query showing only the Employees who are Sales Agents."
   ]
  },
  {
   "cell_type": "code",
   "execution_count": 20,
   "metadata": {
    "execution": {
     "iopub.execute_input": "2021-01-31T06:58:39.266182Z",
     "iopub.status.busy": "2021-01-31T06:58:39.265522Z",
     "iopub.status.idle": "2021-01-31T06:58:39.288363Z",
     "shell.execute_reply": "2021-01-31T06:58:39.288831Z"
    },
    "papermill": {
     "duration": 0.060412,
     "end_time": "2021-01-31T06:58:39.288973",
     "exception": false,
     "start_time": "2021-01-31T06:58:39.228561",
     "status": "completed"
    },
    "tags": []
   },
   "outputs": [
    {
     "data": {
      "text/html": [
       "<div>\n",
       "<style scoped>\n",
       "    .dataframe tbody tr th:only-of-type {\n",
       "        vertical-align: middle;\n",
       "    }\n",
       "\n",
       "    .dataframe tbody tr th {\n",
       "        vertical-align: top;\n",
       "    }\n",
       "\n",
       "    .dataframe thead th {\n",
       "        text-align: right;\n",
       "    }\n",
       "</style>\n",
       "<table border=\"1\" class=\"dataframe\">\n",
       "  <thead>\n",
       "    <tr style=\"text-align: right;\">\n",
       "      <th></th>\n",
       "      <th>Employee_id</th>\n",
       "      <th>Last_name</th>\n",
       "      <th>First_name</th>\n",
       "      <th>Title</th>\n",
       "      <th>Reports_to</th>\n",
       "      <th>Birthdate</th>\n",
       "      <th>Hire_date</th>\n",
       "      <th>Address</th>\n",
       "      <th>City</th>\n",
       "      <th>State</th>\n",
       "      <th>Country</th>\n",
       "      <th>Postal_code</th>\n",
       "      <th>Phone</th>\n",
       "      <th>Fax</th>\n",
       "      <th>Email</th>\n",
       "    </tr>\n",
       "  </thead>\n",
       "  <tbody>\n",
       "    <tr>\n",
       "      <th>0</th>\n",
       "      <td>3</td>\n",
       "      <td>Peacock</td>\n",
       "      <td>Jane</td>\n",
       "      <td>Sales Support Agent</td>\n",
       "      <td>2</td>\n",
       "      <td>1973-08-29 00:00:00</td>\n",
       "      <td>2017-04-01 00:00:00</td>\n",
       "      <td>1111 6 Ave SW</td>\n",
       "      <td>Calgary</td>\n",
       "      <td>AB</td>\n",
       "      <td>Canada</td>\n",
       "      <td>T2P 5M5</td>\n",
       "      <td>+1 (403) 262-3443</td>\n",
       "      <td>+1 (403) 262-6712</td>\n",
       "      <td>jane@chinookcorp.com</td>\n",
       "    </tr>\n",
       "    <tr>\n",
       "      <th>1</th>\n",
       "      <td>4</td>\n",
       "      <td>Park</td>\n",
       "      <td>Margaret</td>\n",
       "      <td>Sales Support Agent</td>\n",
       "      <td>2</td>\n",
       "      <td>1947-09-19 00:00:00</td>\n",
       "      <td>2017-05-03 00:00:00</td>\n",
       "      <td>683 10 Street SW</td>\n",
       "      <td>Calgary</td>\n",
       "      <td>AB</td>\n",
       "      <td>Canada</td>\n",
       "      <td>T2P 5G3</td>\n",
       "      <td>+1 (403) 263-4423</td>\n",
       "      <td>+1 (403) 263-4289</td>\n",
       "      <td>margaret@chinookcorp.com</td>\n",
       "    </tr>\n",
       "    <tr>\n",
       "      <th>2</th>\n",
       "      <td>5</td>\n",
       "      <td>Johnson</td>\n",
       "      <td>Steve</td>\n",
       "      <td>Sales Support Agent</td>\n",
       "      <td>2</td>\n",
       "      <td>1965-03-03 00:00:00</td>\n",
       "      <td>2017-10-17 00:00:00</td>\n",
       "      <td>7727B 41 Ave</td>\n",
       "      <td>Calgary</td>\n",
       "      <td>AB</td>\n",
       "      <td>Canada</td>\n",
       "      <td>T3B 1Y7</td>\n",
       "      <td>1 (780) 836-9987</td>\n",
       "      <td>1 (780) 836-9543</td>\n",
       "      <td>steve@chinookcorp.com</td>\n",
       "    </tr>\n",
       "  </tbody>\n",
       "</table>\n",
       "</div>"
      ],
      "text/plain": [
       "   Employee_id Last_name First_name                Title  Reports_to  \\\n",
       "0            3   Peacock       Jane  Sales Support Agent           2   \n",
       "1            4      Park   Margaret  Sales Support Agent           2   \n",
       "2            5   Johnson      Steve  Sales Support Agent           2   \n",
       "\n",
       "             Birthdate            Hire_date           Address     City State  \\\n",
       "0  1973-08-29 00:00:00  2017-04-01 00:00:00     1111 6 Ave SW  Calgary    AB   \n",
       "1  1947-09-19 00:00:00  2017-05-03 00:00:00  683 10 Street SW  Calgary    AB   \n",
       "2  1965-03-03 00:00:00  2017-10-17 00:00:00      7727B 41 Ave  Calgary    AB   \n",
       "\n",
       "  Country Postal_code              Phone                Fax  \\\n",
       "0  Canada     T2P 5M5  +1 (403) 262-3443  +1 (403) 262-6712   \n",
       "1  Canada     T2P 5G3  +1 (403) 263-4423  +1 (403) 263-4289   \n",
       "2  Canada     T3B 1Y7   1 (780) 836-9987   1 (780) 836-9543   \n",
       "\n",
       "                      Email  \n",
       "0      jane@chinookcorp.com  \n",
       "1  margaret@chinookcorp.com  \n",
       "2     steve@chinookcorp.com  "
      ]
     },
     "execution_count": 20,
     "metadata": {},
     "output_type": "execute_result"
    }
   ],
   "source": [
    "sq('''select *\n",
    "    from employee\n",
    "    where title like \"%Sales%Agent%\" ''')"
   ]
  },
  {
   "cell_type": "markdown",
   "metadata": {
    "papermill": {
     "duration": 0.035623,
     "end_time": "2021-01-31T06:58:39.360176",
     "exception": false,
     "start_time": "2021-01-31T06:58:39.324553",
     "status": "completed"
    },
    "tags": []
   },
   "source": [
    "### 4-Provide a query showing a unique list of billing countries from the Invoice table."
   ]
  },
  {
   "cell_type": "code",
   "execution_count": 21,
   "metadata": {
    "execution": {
     "iopub.execute_input": "2021-01-31T06:58:39.442424Z",
     "iopub.status.busy": "2021-01-31T06:58:39.441750Z",
     "iopub.status.idle": "2021-01-31T06:58:39.453068Z",
     "shell.execute_reply": "2021-01-31T06:58:39.453565Z"
    },
    "papermill": {
     "duration": 0.056828,
     "end_time": "2021-01-31T06:58:39.453698",
     "exception": false,
     "start_time": "2021-01-31T06:58:39.396870",
     "status": "completed"
    },
    "tags": []
   },
   "outputs": [
    {
     "data": {
      "text/html": [
       "<div>\n",
       "<style scoped>\n",
       "    .dataframe tbody tr th:only-of-type {\n",
       "        vertical-align: middle;\n",
       "    }\n",
       "\n",
       "    .dataframe tbody tr th {\n",
       "        vertical-align: top;\n",
       "    }\n",
       "\n",
       "    .dataframe thead th {\n",
       "        text-align: right;\n",
       "    }\n",
       "</style>\n",
       "<table border=\"1\" class=\"dataframe\">\n",
       "  <thead>\n",
       "    <tr style=\"text-align: right;\">\n",
       "      <th></th>\n",
       "      <th>Billing_country</th>\n",
       "    </tr>\n",
       "  </thead>\n",
       "  <tbody>\n",
       "    <tr>\n",
       "      <th>0</th>\n",
       "      <td>USA</td>\n",
       "    </tr>\n",
       "    <tr>\n",
       "      <th>1</th>\n",
       "      <td>Canada</td>\n",
       "    </tr>\n",
       "    <tr>\n",
       "      <th>2</th>\n",
       "      <td>France</td>\n",
       "    </tr>\n",
       "    <tr>\n",
       "      <th>3</th>\n",
       "      <td>Poland</td>\n",
       "    </tr>\n",
       "    <tr>\n",
       "      <th>4</th>\n",
       "      <td>India</td>\n",
       "    </tr>\n",
       "  </tbody>\n",
       "</table>\n",
       "</div>"
      ],
      "text/plain": [
       "  Billing_country\n",
       "0             USA\n",
       "1          Canada\n",
       "2          France\n",
       "3          Poland\n",
       "4           India"
      ]
     },
     "execution_count": 21,
     "metadata": {},
     "output_type": "execute_result"
    }
   ],
   "source": [
    "sq('''select distinct Billing_country \n",
    "    from invoice ''').head() #OR (group by billingcountry)"
   ]
  },
  {
   "cell_type": "markdown",
   "metadata": {
    "papermill": {
     "duration": 0.035122,
     "end_time": "2021-01-31T06:58:39.525729",
     "exception": false,
     "start_time": "2021-01-31T06:58:39.490607",
     "status": "completed"
    },
    "tags": []
   },
   "source": [
    "### 5-Provide a query that shows the invoices associated with each sales agent. The resultant table should include the Sales Agent's full name."
   ]
  },
  {
   "cell_type": "code",
   "execution_count": 22,
   "metadata": {
    "execution": {
     "iopub.execute_input": "2021-01-31T06:58:39.606649Z",
     "iopub.status.busy": "2021-01-31T06:58:39.606041Z",
     "iopub.status.idle": "2021-01-31T06:58:39.626752Z",
     "shell.execute_reply": "2021-01-31T06:58:39.627361Z"
    },
    "papermill": {
     "duration": 0.062844,
     "end_time": "2021-01-31T06:58:39.627507",
     "exception": false,
     "start_time": "2021-01-31T06:58:39.564663",
     "status": "completed"
    },
    "tags": []
   },
   "outputs": [
    {
     "data": {
      "text/html": [
       "<div>\n",
       "<style scoped>\n",
       "    .dataframe tbody tr th:only-of-type {\n",
       "        vertical-align: middle;\n",
       "    }\n",
       "\n",
       "    .dataframe tbody tr th {\n",
       "        vertical-align: top;\n",
       "    }\n",
       "\n",
       "    .dataframe thead th {\n",
       "        text-align: right;\n",
       "    }\n",
       "</style>\n",
       "<table border=\"1\" class=\"dataframe\">\n",
       "  <thead>\n",
       "    <tr style=\"text-align: right;\">\n",
       "      <th></th>\n",
       "      <th>Invoice_id</th>\n",
       "      <th>Name</th>\n",
       "    </tr>\n",
       "  </thead>\n",
       "  <tbody>\n",
       "    <tr>\n",
       "      <th>0</th>\n",
       "      <td>16</td>\n",
       "      <td>Jane Peacock</td>\n",
       "    </tr>\n",
       "    <tr>\n",
       "      <th>1</th>\n",
       "      <td>77</td>\n",
       "      <td>Jane Peacock</td>\n",
       "    </tr>\n",
       "    <tr>\n",
       "      <th>2</th>\n",
       "      <td>149</td>\n",
       "      <td>Jane Peacock</td>\n",
       "    </tr>\n",
       "    <tr>\n",
       "      <th>3</th>\n",
       "      <td>153</td>\n",
       "      <td>Jane Peacock</td>\n",
       "    </tr>\n",
       "    <tr>\n",
       "      <th>4</th>\n",
       "      <td>182</td>\n",
       "      <td>Jane Peacock</td>\n",
       "    </tr>\n",
       "    <tr>\n",
       "      <th>...</th>\n",
       "      <td>...</td>\n",
       "      <td>...</td>\n",
       "    </tr>\n",
       "    <tr>\n",
       "      <th>609</th>\n",
       "      <td>324</td>\n",
       "      <td>Steve Johnson</td>\n",
       "    </tr>\n",
       "    <tr>\n",
       "      <th>610</th>\n",
       "      <td>335</td>\n",
       "      <td>Steve Johnson</td>\n",
       "    </tr>\n",
       "    <tr>\n",
       "      <th>611</th>\n",
       "      <td>351</td>\n",
       "      <td>Steve Johnson</td>\n",
       "    </tr>\n",
       "    <tr>\n",
       "      <th>612</th>\n",
       "      <td>407</td>\n",
       "      <td>Steve Johnson</td>\n",
       "    </tr>\n",
       "    <tr>\n",
       "      <th>613</th>\n",
       "      <td>527</td>\n",
       "      <td>Steve Johnson</td>\n",
       "    </tr>\n",
       "  </tbody>\n",
       "</table>\n",
       "<p>614 rows × 2 columns</p>\n",
       "</div>"
      ],
      "text/plain": [
       "     Invoice_id           Name\n",
       "0            16   Jane Peacock\n",
       "1            77   Jane Peacock\n",
       "2           149   Jane Peacock\n",
       "3           153   Jane Peacock\n",
       "4           182   Jane Peacock\n",
       "..          ...            ...\n",
       "609         324  Steve Johnson\n",
       "610         335  Steve Johnson\n",
       "611         351  Steve Johnson\n",
       "612         407  Steve Johnson\n",
       "613         527  Steve Johnson\n",
       "\n",
       "[614 rows x 2 columns]"
      ]
     },
     "execution_count": 22,
     "metadata": {},
     "output_type": "execute_result"
    }
   ],
   "source": [
    "sq('''select i.invoice_id ,e.first_name||' '||e.last_name as Name\n",
    "    from customer as c\n",
    "    left join invoice as i on i.customer_id = c.customer_id\n",
    "    left join employee as e on e.employee_id = c.Support_rep_id ''')"
   ]
  },
  {
   "cell_type": "markdown",
   "metadata": {
    "papermill": {
     "duration": 0.039796,
     "end_time": "2021-01-31T06:58:39.705247",
     "exception": false,
     "start_time": "2021-01-31T06:58:39.665451",
     "status": "completed"
    },
    "tags": []
   },
   "source": [
    "### 6-Provide a query that shows the Invoice Total, Customer name, Country and Sale Agent name for all invoices and customers."
   ]
  },
  {
   "cell_type": "code",
   "execution_count": 23,
   "metadata": {
    "execution": {
     "iopub.execute_input": "2021-01-31T06:58:39.786445Z",
     "iopub.status.busy": "2021-01-31T06:58:39.785844Z",
     "iopub.status.idle": "2021-01-31T06:58:39.810176Z",
     "shell.execute_reply": "2021-01-31T06:58:39.809642Z"
    },
    "papermill": {
     "duration": 0.065001,
     "end_time": "2021-01-31T06:58:39.810347",
     "exception": false,
     "start_time": "2021-01-31T06:58:39.745346",
     "status": "completed"
    },
    "tags": []
   },
   "outputs": [
    {
     "data": {
      "text/html": [
       "<div>\n",
       "<style scoped>\n",
       "    .dataframe tbody tr th:only-of-type {\n",
       "        vertical-align: middle;\n",
       "    }\n",
       "\n",
       "    .dataframe tbody tr th {\n",
       "        vertical-align: top;\n",
       "    }\n",
       "\n",
       "    .dataframe thead th {\n",
       "        text-align: right;\n",
       "    }\n",
       "</style>\n",
       "<table border=\"1\" class=\"dataframe\">\n",
       "  <thead>\n",
       "    <tr style=\"text-align: right;\">\n",
       "      <th></th>\n",
       "      <th>Customer_name</th>\n",
       "      <th>Employee_name</th>\n",
       "      <th>Total</th>\n",
       "      <th>Country</th>\n",
       "      <th>Title</th>\n",
       "    </tr>\n",
       "  </thead>\n",
       "  <tbody>\n",
       "    <tr>\n",
       "      <th>0</th>\n",
       "      <td>Luís Gonçalves</td>\n",
       "      <td>Jane Peacock</td>\n",
       "      <td>8.91</td>\n",
       "      <td>Brazil</td>\n",
       "      <td>Sales Support Agent</td>\n",
       "    </tr>\n",
       "    <tr>\n",
       "      <th>1</th>\n",
       "      <td>Luís Gonçalves</td>\n",
       "      <td>Jane Peacock</td>\n",
       "      <td>5.94</td>\n",
       "      <td>Brazil</td>\n",
       "      <td>Sales Support Agent</td>\n",
       "    </tr>\n",
       "    <tr>\n",
       "      <th>2</th>\n",
       "      <td>Luís Gonçalves</td>\n",
       "      <td>Jane Peacock</td>\n",
       "      <td>8.91</td>\n",
       "      <td>Brazil</td>\n",
       "      <td>Sales Support Agent</td>\n",
       "    </tr>\n",
       "    <tr>\n",
       "      <th>3</th>\n",
       "      <td>Luís Gonçalves</td>\n",
       "      <td>Jane Peacock</td>\n",
       "      <td>13.86</td>\n",
       "      <td>Brazil</td>\n",
       "      <td>Sales Support Agent</td>\n",
       "    </tr>\n",
       "    <tr>\n",
       "      <th>4</th>\n",
       "      <td>Luís Gonçalves</td>\n",
       "      <td>Jane Peacock</td>\n",
       "      <td>5.94</td>\n",
       "      <td>Brazil</td>\n",
       "      <td>Sales Support Agent</td>\n",
       "    </tr>\n",
       "    <tr>\n",
       "      <th>...</th>\n",
       "      <td>...</td>\n",
       "      <td>...</td>\n",
       "      <td>...</td>\n",
       "      <td>...</td>\n",
       "      <td>...</td>\n",
       "    </tr>\n",
       "    <tr>\n",
       "      <th>609</th>\n",
       "      <td>Puja Srivastava</td>\n",
       "      <td>Jane Peacock</td>\n",
       "      <td>8.91</td>\n",
       "      <td>India</td>\n",
       "      <td>Sales Support Agent</td>\n",
       "    </tr>\n",
       "    <tr>\n",
       "      <th>610</th>\n",
       "      <td>Puja Srivastava</td>\n",
       "      <td>Jane Peacock</td>\n",
       "      <td>8.91</td>\n",
       "      <td>India</td>\n",
       "      <td>Sales Support Agent</td>\n",
       "    </tr>\n",
       "    <tr>\n",
       "      <th>611</th>\n",
       "      <td>Puja Srivastava</td>\n",
       "      <td>Jane Peacock</td>\n",
       "      <td>8.91</td>\n",
       "      <td>India</td>\n",
       "      <td>Sales Support Agent</td>\n",
       "    </tr>\n",
       "    <tr>\n",
       "      <th>612</th>\n",
       "      <td>Puja Srivastava</td>\n",
       "      <td>Jane Peacock</td>\n",
       "      <td>7.92</td>\n",
       "      <td>India</td>\n",
       "      <td>Sales Support Agent</td>\n",
       "    </tr>\n",
       "    <tr>\n",
       "      <th>613</th>\n",
       "      <td>Puja Srivastava</td>\n",
       "      <td>Jane Peacock</td>\n",
       "      <td>4.95</td>\n",
       "      <td>India</td>\n",
       "      <td>Sales Support Agent</td>\n",
       "    </tr>\n",
       "  </tbody>\n",
       "</table>\n",
       "<p>614 rows × 5 columns</p>\n",
       "</div>"
      ],
      "text/plain": [
       "       Customer_name Employee_name  Total Country                Title\n",
       "0     Luís Gonçalves  Jane Peacock   8.91  Brazil  Sales Support Agent\n",
       "1     Luís Gonçalves  Jane Peacock   5.94  Brazil  Sales Support Agent\n",
       "2     Luís Gonçalves  Jane Peacock   8.91  Brazil  Sales Support Agent\n",
       "3     Luís Gonçalves  Jane Peacock  13.86  Brazil  Sales Support Agent\n",
       "4     Luís Gonçalves  Jane Peacock   5.94  Brazil  Sales Support Agent\n",
       "..               ...           ...    ...     ...                  ...\n",
       "609  Puja Srivastava  Jane Peacock   8.91   India  Sales Support Agent\n",
       "610  Puja Srivastava  Jane Peacock   8.91   India  Sales Support Agent\n",
       "611  Puja Srivastava  Jane Peacock   8.91   India  Sales Support Agent\n",
       "612  Puja Srivastava  Jane Peacock   7.92   India  Sales Support Agent\n",
       "613  Puja Srivastava  Jane Peacock   4.95   India  Sales Support Agent\n",
       "\n",
       "[614 rows x 5 columns]"
      ]
     },
     "execution_count": 23,
     "metadata": {},
     "output_type": "execute_result"
    }
   ],
   "source": [
    "sq('''select c.first_name||' '||c.last_name as Customer_Name,\n",
    "             e.first_name||' '||e.last_name as Employee_Name,\n",
    "             i.Total ,c.country ,e.title\n",
    "    from customer as c\n",
    "    left join invoice as i on i.customer_id = c.customer_id \n",
    "    left join employee as e on e.employee_id = c.support_rep_id''')"
   ]
  },
  {
   "cell_type": "markdown",
   "metadata": {
    "papermill": {
     "duration": 0.037932,
     "end_time": "2021-01-31T06:58:39.887669",
     "exception": false,
     "start_time": "2021-01-31T06:58:39.849737",
     "status": "completed"
    },
    "tags": []
   },
   "source": [
    "###  7-How many Invoices were there in 2009 and 2011? What are the respective total sales for each of those years?"
   ]
  },
  {
   "cell_type": "code",
   "execution_count": 24,
   "metadata": {
    "execution": {
     "iopub.execute_input": "2021-01-31T06:58:39.969209Z",
     "iopub.status.busy": "2021-01-31T06:58:39.968115Z",
     "iopub.status.idle": "2021-01-31T06:58:39.980216Z",
     "shell.execute_reply": "2021-01-31T06:58:39.980684Z"
    },
    "papermill": {
     "duration": 0.054484,
     "end_time": "2021-01-31T06:58:39.980820",
     "exception": false,
     "start_time": "2021-01-31T06:58:39.926336",
     "status": "completed"
    },
    "tags": []
   },
   "outputs": [
    {
     "data": {
      "text/html": [
       "<div>\n",
       "<style scoped>\n",
       "    .dataframe tbody tr th:only-of-type {\n",
       "        vertical-align: middle;\n",
       "    }\n",
       "\n",
       "    .dataframe tbody tr th {\n",
       "        vertical-align: top;\n",
       "    }\n",
       "\n",
       "    .dataframe thead th {\n",
       "        text-align: right;\n",
       "    }\n",
       "</style>\n",
       "<table border=\"1\" class=\"dataframe\">\n",
       "  <thead>\n",
       "    <tr style=\"text-align: right;\">\n",
       "      <th></th>\n",
       "      <th>Year</th>\n",
       "      <th>Invoices_by_year</th>\n",
       "    </tr>\n",
       "  </thead>\n",
       "  <tbody>\n",
       "    <tr>\n",
       "      <th>0</th>\n",
       "      <td>2017</td>\n",
       "      <td>154</td>\n",
       "    </tr>\n",
       "    <tr>\n",
       "      <th>1</th>\n",
       "      <td>2018</td>\n",
       "      <td>151</td>\n",
       "    </tr>\n",
       "    <tr>\n",
       "      <th>2</th>\n",
       "      <td>2019</td>\n",
       "      <td>159</td>\n",
       "    </tr>\n",
       "    <tr>\n",
       "      <th>3</th>\n",
       "      <td>2020</td>\n",
       "      <td>150</td>\n",
       "    </tr>\n",
       "  </tbody>\n",
       "</table>\n",
       "</div>"
      ],
      "text/plain": [
       "   Year  Invoices_by_year\n",
       "0  2017               154\n",
       "1  2018               151\n",
       "2  2019               159\n",
       "3  2020               150"
      ]
     },
     "execution_count": 24,
     "metadata": {},
     "output_type": "execute_result"
    }
   ],
   "source": [
    "sq('''select  strftime('%Y',Invoice_Date) as Year, count(*) as invoices_by_year\n",
    "      from invoice\n",
    "      group by 1''')#strftime(format, timestring, modifier, modifier, ...)"
   ]
  },
  {
   "cell_type": "code",
   "execution_count": 25,
   "metadata": {
    "execution": {
     "iopub.execute_input": "2021-01-31T06:58:40.061509Z",
     "iopub.status.busy": "2021-01-31T06:58:40.060637Z",
     "iopub.status.idle": "2021-01-31T06:58:40.073206Z",
     "shell.execute_reply": "2021-01-31T06:58:40.072685Z"
    },
    "papermill": {
     "duration": 0.053614,
     "end_time": "2021-01-31T06:58:40.073319",
     "exception": false,
     "start_time": "2021-01-31T06:58:40.019705",
     "status": "completed"
    },
    "tags": []
   },
   "outputs": [
    {
     "data": {
      "text/html": [
       "<div>\n",
       "<style scoped>\n",
       "    .dataframe tbody tr th:only-of-type {\n",
       "        vertical-align: middle;\n",
       "    }\n",
       "\n",
       "    .dataframe tbody tr th {\n",
       "        vertical-align: top;\n",
       "    }\n",
       "\n",
       "    .dataframe thead th {\n",
       "        text-align: right;\n",
       "    }\n",
       "</style>\n",
       "<table border=\"1\" class=\"dataframe\">\n",
       "  <thead>\n",
       "    <tr style=\"text-align: right;\">\n",
       "      <th></th>\n",
       "      <th>Invoices_2009</th>\n",
       "      <th>Invoices_2011</th>\n",
       "    </tr>\n",
       "  </thead>\n",
       "  <tbody>\n",
       "    <tr>\n",
       "      <th>0</th>\n",
       "      <td>0</td>\n",
       "      <td>0</td>\n",
       "    </tr>\n",
       "  </tbody>\n",
       "</table>\n",
       "</div>"
      ],
      "text/plain": [
       "   Invoices_2009  Invoices_2011\n",
       "0              0              0"
      ]
     },
     "execution_count": 25,
     "metadata": {},
     "output_type": "execute_result"
    }
   ],
   "source": [
    "# Using subquery\n",
    "sq('''select\n",
    "  (select count(*)\n",
    "  from invoice i\n",
    "  where substr(i.invoice_date, 0, 5) = \"2009\") as Invoices_2009,\n",
    "  (select count(*)\n",
    "    from invoice i\n",
    "    where substr(i.invoice_date, 0, 5) = \"2011\") as Invoices_2011 ''') #SUBSTR(string, start, length)"
   ]
  },
  {
   "cell_type": "markdown",
   "metadata": {
    "papermill": {
     "duration": 0.038182,
     "end_time": "2021-01-31T06:58:40.149987",
     "exception": false,
     "start_time": "2021-01-31T06:58:40.111805",
     "status": "completed"
    },
    "tags": []
   },
   "source": [
    "###  8-Looking at the InvoiceLine table, provide a query that COUNTs the number of line items for Invoice ID 37."
   ]
  },
  {
   "cell_type": "code",
   "execution_count": 26,
   "metadata": {
    "execution": {
     "iopub.execute_input": "2021-01-31T06:58:40.231945Z",
     "iopub.status.busy": "2021-01-31T06:58:40.230795Z",
     "iopub.status.idle": "2021-01-31T06:58:40.245312Z",
     "shell.execute_reply": "2021-01-31T06:58:40.245878Z"
    },
    "papermill": {
     "duration": 0.056061,
     "end_time": "2021-01-31T06:58:40.246053",
     "exception": false,
     "start_time": "2021-01-31T06:58:40.189992",
     "status": "completed"
    },
    "tags": []
   },
   "outputs": [
    {
     "data": {
      "text/html": [
       "<div>\n",
       "<style scoped>\n",
       "    .dataframe tbody tr th:only-of-type {\n",
       "        vertical-align: middle;\n",
       "    }\n",
       "\n",
       "    .dataframe tbody tr th {\n",
       "        vertical-align: top;\n",
       "    }\n",
       "\n",
       "    .dataframe thead th {\n",
       "        text-align: right;\n",
       "    }\n",
       "</style>\n",
       "<table border=\"1\" class=\"dataframe\">\n",
       "  <thead>\n",
       "    <tr style=\"text-align: right;\">\n",
       "      <th></th>\n",
       "      <th>Line_items_id_37</th>\n",
       "    </tr>\n",
       "  </thead>\n",
       "  <tbody>\n",
       "    <tr>\n",
       "      <th>0</th>\n",
       "      <td>10</td>\n",
       "    </tr>\n",
       "  </tbody>\n",
       "</table>\n",
       "</div>"
      ],
      "text/plain": [
       "   Line_items_id_37\n",
       "0                10"
      ]
     },
     "execution_count": 26,
     "metadata": {},
     "output_type": "execute_result"
    }
   ],
   "source": [
    "sq('''select count(*) as line_items_ID_37\n",
    "    from invoice_line\n",
    "    where Invoice_Id is 37''')"
   ]
  },
  {
   "cell_type": "markdown",
   "metadata": {
    "papermill": {
     "duration": 0.03849,
     "end_time": "2021-01-31T06:58:40.323395",
     "exception": false,
     "start_time": "2021-01-31T06:58:40.284905",
     "status": "completed"
    },
    "tags": []
   },
   "source": [
    "### 9-Looking at the InvoiceLine table, provide a query that COUNTs the number of line items for each Invoice. "
   ]
  },
  {
   "cell_type": "code",
   "execution_count": 27,
   "metadata": {
    "execution": {
     "iopub.execute_input": "2021-01-31T06:58:40.409054Z",
     "iopub.status.busy": "2021-01-31T06:58:40.408348Z",
     "iopub.status.idle": "2021-01-31T06:58:40.421628Z",
     "shell.execute_reply": "2021-01-31T06:58:40.422148Z"
    },
    "papermill": {
     "duration": 0.058299,
     "end_time": "2021-01-31T06:58:40.422287",
     "exception": false,
     "start_time": "2021-01-31T06:58:40.363988",
     "status": "completed"
    },
    "tags": []
   },
   "outputs": [
    {
     "data": {
      "text/html": [
       "<div>\n",
       "<style scoped>\n",
       "    .dataframe tbody tr th:only-of-type {\n",
       "        vertical-align: middle;\n",
       "    }\n",
       "\n",
       "    .dataframe tbody tr th {\n",
       "        vertical-align: top;\n",
       "    }\n",
       "\n",
       "    .dataframe thead th {\n",
       "        text-align: right;\n",
       "    }\n",
       "</style>\n",
       "<table border=\"1\" class=\"dataframe\">\n",
       "  <thead>\n",
       "    <tr style=\"text-align: right;\">\n",
       "      <th></th>\n",
       "      <th>Invoice_id</th>\n",
       "      <th>Count</th>\n",
       "    </tr>\n",
       "  </thead>\n",
       "  <tbody>\n",
       "    <tr>\n",
       "      <th>0</th>\n",
       "      <td>1</td>\n",
       "      <td>1</td>\n",
       "    </tr>\n",
       "    <tr>\n",
       "      <th>1</th>\n",
       "      <td>2</td>\n",
       "      <td>1</td>\n",
       "    </tr>\n",
       "    <tr>\n",
       "      <th>2</th>\n",
       "      <td>3</td>\n",
       "      <td>1</td>\n",
       "    </tr>\n",
       "    <tr>\n",
       "      <th>3</th>\n",
       "      <td>4</td>\n",
       "      <td>1</td>\n",
       "    </tr>\n",
       "    <tr>\n",
       "      <th>4</th>\n",
       "      <td>5</td>\n",
       "      <td>1</td>\n",
       "    </tr>\n",
       "    <tr>\n",
       "      <th>...</th>\n",
       "      <td>...</td>\n",
       "      <td>...</td>\n",
       "    </tr>\n",
       "    <tr>\n",
       "      <th>609</th>\n",
       "      <td>610</td>\n",
       "      <td>1</td>\n",
       "    </tr>\n",
       "    <tr>\n",
       "      <th>610</th>\n",
       "      <td>611</td>\n",
       "      <td>1</td>\n",
       "    </tr>\n",
       "    <tr>\n",
       "      <th>611</th>\n",
       "      <td>612</td>\n",
       "      <td>1</td>\n",
       "    </tr>\n",
       "    <tr>\n",
       "      <th>612</th>\n",
       "      <td>613</td>\n",
       "      <td>1</td>\n",
       "    </tr>\n",
       "    <tr>\n",
       "      <th>613</th>\n",
       "      <td>614</td>\n",
       "      <td>1</td>\n",
       "    </tr>\n",
       "  </tbody>\n",
       "</table>\n",
       "<p>614 rows × 2 columns</p>\n",
       "</div>"
      ],
      "text/plain": [
       "     Invoice_id  Count\n",
       "0             1      1\n",
       "1             2      1\n",
       "2             3      1\n",
       "3             4      1\n",
       "4             5      1\n",
       "..          ...    ...\n",
       "609         610      1\n",
       "610         611      1\n",
       "611         612      1\n",
       "612         613      1\n",
       "613         614      1\n",
       "\n",
       "[614 rows x 2 columns]"
      ]
     },
     "execution_count": 27,
     "metadata": {},
     "output_type": "execute_result"
    }
   ],
   "source": [
    "sq('''select invoice_id ,count(*) as Count\n",
    "    from invoice \n",
    "    group by invoice_id''')"
   ]
  },
  {
   "cell_type": "markdown",
   "metadata": {
    "papermill": {
     "duration": 0.039915,
     "end_time": "2021-01-31T06:58:40.501569",
     "exception": false,
     "start_time": "2021-01-31T06:58:40.461654",
     "status": "completed"
    },
    "tags": []
   },
   "source": [
    "### 10-Provide a query that includes the track name with each invoice line item."
   ]
  },
  {
   "cell_type": "code",
   "execution_count": 28,
   "metadata": {
    "execution": {
     "iopub.execute_input": "2021-01-31T06:58:40.585629Z",
     "iopub.status.busy": "2021-01-31T06:58:40.585055Z",
     "iopub.status.idle": "2021-01-31T06:58:40.616580Z",
     "shell.execute_reply": "2021-01-31T06:58:40.617100Z"
    },
    "papermill": {
     "duration": 0.075695,
     "end_time": "2021-01-31T06:58:40.617244",
     "exception": false,
     "start_time": "2021-01-31T06:58:40.541549",
     "status": "completed"
    },
    "tags": []
   },
   "outputs": [
    {
     "data": {
      "text/html": [
       "<div>\n",
       "<style scoped>\n",
       "    .dataframe tbody tr th:only-of-type {\n",
       "        vertical-align: middle;\n",
       "    }\n",
       "\n",
       "    .dataframe tbody tr th {\n",
       "        vertical-align: top;\n",
       "    }\n",
       "\n",
       "    .dataframe thead th {\n",
       "        text-align: right;\n",
       "    }\n",
       "</style>\n",
       "<table border=\"1\" class=\"dataframe\">\n",
       "  <thead>\n",
       "    <tr style=\"text-align: right;\">\n",
       "      <th></th>\n",
       "      <th>Track_name</th>\n",
       "      <th>Invoice_line_id</th>\n",
       "      <th>Invoice_id</th>\n",
       "      <th>Track_id</th>\n",
       "      <th>Unit_price</th>\n",
       "      <th>Quantity</th>\n",
       "    </tr>\n",
       "  </thead>\n",
       "  <tbody>\n",
       "    <tr>\n",
       "      <th>0</th>\n",
       "      <td>Right Next Door to Hell</td>\n",
       "      <td>1</td>\n",
       "      <td>1</td>\n",
       "      <td>1158</td>\n",
       "      <td>0.99</td>\n",
       "      <td>1</td>\n",
       "    </tr>\n",
       "    <tr>\n",
       "      <th>1</th>\n",
       "      <td>Dust N' Bones</td>\n",
       "      <td>2</td>\n",
       "      <td>1</td>\n",
       "      <td>1159</td>\n",
       "      <td>0.99</td>\n",
       "      <td>1</td>\n",
       "    </tr>\n",
       "    <tr>\n",
       "      <th>2</th>\n",
       "      <td>Live and Let Die</td>\n",
       "      <td>3</td>\n",
       "      <td>1</td>\n",
       "      <td>1160</td>\n",
       "      <td>0.99</td>\n",
       "      <td>1</td>\n",
       "    </tr>\n",
       "    <tr>\n",
       "      <th>3</th>\n",
       "      <td>Don't Cry (Original)</td>\n",
       "      <td>4</td>\n",
       "      <td>1</td>\n",
       "      <td>1161</td>\n",
       "      <td>0.99</td>\n",
       "      <td>1</td>\n",
       "    </tr>\n",
       "    <tr>\n",
       "      <th>4</th>\n",
       "      <td>Perfect Crime</td>\n",
       "      <td>5</td>\n",
       "      <td>1</td>\n",
       "      <td>1162</td>\n",
       "      <td>0.99</td>\n",
       "      <td>1</td>\n",
       "    </tr>\n",
       "    <tr>\n",
       "      <th>...</th>\n",
       "      <td>...</td>\n",
       "      <td>...</td>\n",
       "      <td>...</td>\n",
       "      <td>...</td>\n",
       "      <td>...</td>\n",
       "      <td>...</td>\n",
       "    </tr>\n",
       "    <tr>\n",
       "      <th>4752</th>\n",
       "      <td>Every Breath You Take</td>\n",
       "      <td>4753</td>\n",
       "      <td>614</td>\n",
       "      <td>2659</td>\n",
       "      <td>0.99</td>\n",
       "      <td>1</td>\n",
       "    </tr>\n",
       "    <tr>\n",
       "      <th>4753</th>\n",
       "      <td>King Of Pain</td>\n",
       "      <td>4754</td>\n",
       "      <td>614</td>\n",
       "      <td>2660</td>\n",
       "      <td>0.99</td>\n",
       "      <td>1</td>\n",
       "    </tr>\n",
       "    <tr>\n",
       "      <th>4754</th>\n",
       "      <td>Wrapped Around Your Finger</td>\n",
       "      <td>4755</td>\n",
       "      <td>614</td>\n",
       "      <td>2661</td>\n",
       "      <td>0.99</td>\n",
       "      <td>1</td>\n",
       "    </tr>\n",
       "    <tr>\n",
       "      <th>4755</th>\n",
       "      <td>Don't Stand So Close to Me '86</td>\n",
       "      <td>4756</td>\n",
       "      <td>614</td>\n",
       "      <td>2662</td>\n",
       "      <td>0.99</td>\n",
       "      <td>1</td>\n",
       "    </tr>\n",
       "    <tr>\n",
       "      <th>4756</th>\n",
       "      <td>Message in a Bottle (new classic rock mix)</td>\n",
       "      <td>4757</td>\n",
       "      <td>614</td>\n",
       "      <td>2663</td>\n",
       "      <td>0.99</td>\n",
       "      <td>1</td>\n",
       "    </tr>\n",
       "  </tbody>\n",
       "</table>\n",
       "<p>4757 rows × 6 columns</p>\n",
       "</div>"
      ],
      "text/plain": [
       "                                      Track_name  Invoice_line_id  Invoice_id  \\\n",
       "0                        Right Next Door to Hell                1           1   \n",
       "1                                  Dust N' Bones                2           1   \n",
       "2                               Live and Let Die                3           1   \n",
       "3                           Don't Cry (Original)                4           1   \n",
       "4                                  Perfect Crime                5           1   \n",
       "...                                          ...              ...         ...   \n",
       "4752                       Every Breath You Take             4753         614   \n",
       "4753                                King Of Pain             4754         614   \n",
       "4754                  Wrapped Around Your Finger             4755         614   \n",
       "4755              Don't Stand So Close to Me '86             4756         614   \n",
       "4756  Message in a Bottle (new classic rock mix)             4757         614   \n",
       "\n",
       "      Track_id  Unit_price  Quantity  \n",
       "0         1158        0.99         1  \n",
       "1         1159        0.99         1  \n",
       "2         1160        0.99         1  \n",
       "3         1161        0.99         1  \n",
       "4         1162        0.99         1  \n",
       "...        ...         ...       ...  \n",
       "4752      2659        0.99         1  \n",
       "4753      2660        0.99         1  \n",
       "4754      2661        0.99         1  \n",
       "4755      2662        0.99         1  \n",
       "4756      2663        0.99         1  \n",
       "\n",
       "[4757 rows x 6 columns]"
      ]
     },
     "execution_count": 28,
     "metadata": {},
     "output_type": "execute_result"
    }
   ],
   "source": [
    "sq('''select t.Name as Track_name, i.*\n",
    "    from  invoice_line as i\n",
    "    left join track as t on i.track_id=t.track_id \n",
    "    ''')"
   ]
  },
  {
   "cell_type": "markdown",
   "metadata": {
    "papermill": {
     "duration": 0.0387,
     "end_time": "2021-01-31T06:58:40.696185",
     "exception": false,
     "start_time": "2021-01-31T06:58:40.657485",
     "status": "completed"
    },
    "tags": []
   },
   "source": [
    "### 11-Provide a query that includes the purchased track name AND artist name with each invoice line item."
   ]
  },
  {
   "cell_type": "code",
   "execution_count": 29,
   "metadata": {
    "execution": {
     "iopub.execute_input": "2021-01-31T06:58:40.780775Z",
     "iopub.status.busy": "2021-01-31T06:58:40.780194Z",
     "iopub.status.idle": "2021-01-31T06:58:40.820179Z",
     "shell.execute_reply": "2021-01-31T06:58:40.820644Z"
    },
    "papermill": {
     "duration": 0.083642,
     "end_time": "2021-01-31T06:58:40.820781",
     "exception": false,
     "start_time": "2021-01-31T06:58:40.737139",
     "status": "completed"
    },
    "tags": []
   },
   "outputs": [
    {
     "data": {
      "text/html": [
       "<div>\n",
       "<style scoped>\n",
       "    .dataframe tbody tr th:only-of-type {\n",
       "        vertical-align: middle;\n",
       "    }\n",
       "\n",
       "    .dataframe tbody tr th {\n",
       "        vertical-align: top;\n",
       "    }\n",
       "\n",
       "    .dataframe thead th {\n",
       "        text-align: right;\n",
       "    }\n",
       "</style>\n",
       "<table border=\"1\" class=\"dataframe\">\n",
       "  <thead>\n",
       "    <tr style=\"text-align: right;\">\n",
       "      <th></th>\n",
       "      <th>Track_name</th>\n",
       "      <th>Artist</th>\n",
       "      <th>Artist_id</th>\n",
       "      <th>Invoice_line_id</th>\n",
       "      <th>Invoice_id</th>\n",
       "      <th>Track_id</th>\n",
       "      <th>Unit_price</th>\n",
       "      <th>Quantity</th>\n",
       "    </tr>\n",
       "  </thead>\n",
       "  <tbody>\n",
       "    <tr>\n",
       "      <th>0</th>\n",
       "      <td>Right Next Door to Hell</td>\n",
       "      <td>Guns N' Roses</td>\n",
       "      <td>88</td>\n",
       "      <td>1</td>\n",
       "      <td>1</td>\n",
       "      <td>1158</td>\n",
       "      <td>0.99</td>\n",
       "      <td>1</td>\n",
       "    </tr>\n",
       "    <tr>\n",
       "      <th>1</th>\n",
       "      <td>Dust N' Bones</td>\n",
       "      <td>Guns N' Roses</td>\n",
       "      <td>88</td>\n",
       "      <td>2</td>\n",
       "      <td>1</td>\n",
       "      <td>1159</td>\n",
       "      <td>0.99</td>\n",
       "      <td>1</td>\n",
       "    </tr>\n",
       "    <tr>\n",
       "      <th>2</th>\n",
       "      <td>Live and Let Die</td>\n",
       "      <td>Guns N' Roses</td>\n",
       "      <td>88</td>\n",
       "      <td>3</td>\n",
       "      <td>1</td>\n",
       "      <td>1160</td>\n",
       "      <td>0.99</td>\n",
       "      <td>1</td>\n",
       "    </tr>\n",
       "    <tr>\n",
       "      <th>3</th>\n",
       "      <td>Don't Cry (Original)</td>\n",
       "      <td>Guns N' Roses</td>\n",
       "      <td>88</td>\n",
       "      <td>4</td>\n",
       "      <td>1</td>\n",
       "      <td>1161</td>\n",
       "      <td>0.99</td>\n",
       "      <td>1</td>\n",
       "    </tr>\n",
       "    <tr>\n",
       "      <th>4</th>\n",
       "      <td>Perfect Crime</td>\n",
       "      <td>Guns N' Roses</td>\n",
       "      <td>88</td>\n",
       "      <td>5</td>\n",
       "      <td>1</td>\n",
       "      <td>1162</td>\n",
       "      <td>0.99</td>\n",
       "      <td>1</td>\n",
       "    </tr>\n",
       "    <tr>\n",
       "      <th>...</th>\n",
       "      <td>...</td>\n",
       "      <td>...</td>\n",
       "      <td>...</td>\n",
       "      <td>...</td>\n",
       "      <td>...</td>\n",
       "      <td>...</td>\n",
       "      <td>...</td>\n",
       "      <td>...</td>\n",
       "    </tr>\n",
       "    <tr>\n",
       "      <th>4752</th>\n",
       "      <td>Every Breath You Take</td>\n",
       "      <td>The Police</td>\n",
       "      <td>141</td>\n",
       "      <td>4753</td>\n",
       "      <td>614</td>\n",
       "      <td>2659</td>\n",
       "      <td>0.99</td>\n",
       "      <td>1</td>\n",
       "    </tr>\n",
       "    <tr>\n",
       "      <th>4753</th>\n",
       "      <td>King Of Pain</td>\n",
       "      <td>The Police</td>\n",
       "      <td>141</td>\n",
       "      <td>4754</td>\n",
       "      <td>614</td>\n",
       "      <td>2660</td>\n",
       "      <td>0.99</td>\n",
       "      <td>1</td>\n",
       "    </tr>\n",
       "    <tr>\n",
       "      <th>4754</th>\n",
       "      <td>Wrapped Around Your Finger</td>\n",
       "      <td>The Police</td>\n",
       "      <td>141</td>\n",
       "      <td>4755</td>\n",
       "      <td>614</td>\n",
       "      <td>2661</td>\n",
       "      <td>0.99</td>\n",
       "      <td>1</td>\n",
       "    </tr>\n",
       "    <tr>\n",
       "      <th>4755</th>\n",
       "      <td>Don't Stand So Close to Me '86</td>\n",
       "      <td>The Police</td>\n",
       "      <td>141</td>\n",
       "      <td>4756</td>\n",
       "      <td>614</td>\n",
       "      <td>2662</td>\n",
       "      <td>0.99</td>\n",
       "      <td>1</td>\n",
       "    </tr>\n",
       "    <tr>\n",
       "      <th>4756</th>\n",
       "      <td>Message in a Bottle (new classic rock mix)</td>\n",
       "      <td>The Police</td>\n",
       "      <td>141</td>\n",
       "      <td>4757</td>\n",
       "      <td>614</td>\n",
       "      <td>2663</td>\n",
       "      <td>0.99</td>\n",
       "      <td>1</td>\n",
       "    </tr>\n",
       "  </tbody>\n",
       "</table>\n",
       "<p>4757 rows × 8 columns</p>\n",
       "</div>"
      ],
      "text/plain": [
       "                                      Track_name         Artist  Artist_id  \\\n",
       "0                        Right Next Door to Hell  Guns N' Roses         88   \n",
       "1                                  Dust N' Bones  Guns N' Roses         88   \n",
       "2                               Live and Let Die  Guns N' Roses         88   \n",
       "3                           Don't Cry (Original)  Guns N' Roses         88   \n",
       "4                                  Perfect Crime  Guns N' Roses         88   \n",
       "...                                          ...            ...        ...   \n",
       "4752                       Every Breath You Take     The Police        141   \n",
       "4753                                King Of Pain     The Police        141   \n",
       "4754                  Wrapped Around Your Finger     The Police        141   \n",
       "4755              Don't Stand So Close to Me '86     The Police        141   \n",
       "4756  Message in a Bottle (new classic rock mix)     The Police        141   \n",
       "\n",
       "      Invoice_line_id  Invoice_id  Track_id  Unit_price  Quantity  \n",
       "0                   1           1      1158        0.99         1  \n",
       "1                   2           1      1159        0.99         1  \n",
       "2                   3           1      1160        0.99         1  \n",
       "3                   4           1      1161        0.99         1  \n",
       "4                   5           1      1162        0.99         1  \n",
       "...               ...         ...       ...         ...       ...  \n",
       "4752             4753         614      2659        0.99         1  \n",
       "4753             4754         614      2660        0.99         1  \n",
       "4754             4755         614      2661        0.99         1  \n",
       "4755             4756         614      2662        0.99         1  \n",
       "4756             4757         614      2663        0.99         1  \n",
       "\n",
       "[4757 rows x 8 columns]"
      ]
     },
     "execution_count": 29,
     "metadata": {},
     "output_type": "execute_result"
    }
   ],
   "source": [
    "sq('''select  t.name as Track_name ,art.Name as artist ,a.artist_id as Artist_id,il.*\n",
    "    from invoice_line as il\n",
    "    left join track as t on t.track_id = il.track_id \n",
    "    left join album as a on a.album_id = t.album_id \n",
    "    left join artist as art on art.artist_id = a.artist_id\n",
    "    ''')"
   ]
  },
  {
   "cell_type": "markdown",
   "metadata": {
    "papermill": {
     "duration": 0.042528,
     "end_time": "2021-01-31T06:58:40.904431",
     "exception": false,
     "start_time": "2021-01-31T06:58:40.861903",
     "status": "completed"
    },
    "tags": []
   },
   "source": [
    "### 12-Provide a query that shows the number of invoices per country."
   ]
  },
  {
   "cell_type": "code",
   "execution_count": 30,
   "metadata": {
    "execution": {
     "iopub.execute_input": "2021-01-31T06:58:40.990310Z",
     "iopub.status.busy": "2021-01-31T06:58:40.989605Z",
     "iopub.status.idle": "2021-01-31T06:58:41.001231Z",
     "shell.execute_reply": "2021-01-31T06:58:41.000636Z"
    },
    "papermill": {
     "duration": 0.055825,
     "end_time": "2021-01-31T06:58:41.001343",
     "exception": false,
     "start_time": "2021-01-31T06:58:40.945518",
     "status": "completed"
    },
    "tags": []
   },
   "outputs": [
    {
     "data": {
      "text/html": [
       "<div>\n",
       "<style scoped>\n",
       "    .dataframe tbody tr th:only-of-type {\n",
       "        vertical-align: middle;\n",
       "    }\n",
       "\n",
       "    .dataframe tbody tr th {\n",
       "        vertical-align: top;\n",
       "    }\n",
       "\n",
       "    .dataframe thead th {\n",
       "        text-align: right;\n",
       "    }\n",
       "</style>\n",
       "<table border=\"1\" class=\"dataframe\">\n",
       "  <thead>\n",
       "    <tr style=\"text-align: right;\">\n",
       "      <th></th>\n",
       "      <th>Billing_country</th>\n",
       "      <th>Invoices_count</th>\n",
       "    </tr>\n",
       "  </thead>\n",
       "  <tbody>\n",
       "    <tr>\n",
       "      <th>0</th>\n",
       "      <td>USA</td>\n",
       "      <td>131</td>\n",
       "    </tr>\n",
       "    <tr>\n",
       "      <th>1</th>\n",
       "      <td>Canada</td>\n",
       "      <td>76</td>\n",
       "    </tr>\n",
       "    <tr>\n",
       "      <th>2</th>\n",
       "      <td>Brazil</td>\n",
       "      <td>61</td>\n",
       "    </tr>\n",
       "    <tr>\n",
       "      <th>3</th>\n",
       "      <td>France</td>\n",
       "      <td>50</td>\n",
       "    </tr>\n",
       "    <tr>\n",
       "      <th>4</th>\n",
       "      <td>Germany</td>\n",
       "      <td>41</td>\n",
       "    </tr>\n",
       "  </tbody>\n",
       "</table>\n",
       "</div>"
      ],
      "text/plain": [
       "  Billing_country  Invoices_count\n",
       "0             USA             131\n",
       "1          Canada              76\n",
       "2          Brazil              61\n",
       "3          France              50\n",
       "4         Germany              41"
      ]
     },
     "execution_count": 30,
     "metadata": {},
     "output_type": "execute_result"
    }
   ],
   "source": [
    "sq('''select billing_country ,count(*) as invoices_count\n",
    "    from invoice \n",
    "    group by billing_country\n",
    "    order by 2 desc\n",
    "    ''').head()"
   ]
  },
  {
   "cell_type": "markdown",
   "metadata": {
    "papermill": {
     "duration": 0.040314,
     "end_time": "2021-01-31T06:58:41.086101",
     "exception": false,
     "start_time": "2021-01-31T06:58:41.045787",
     "status": "completed"
    },
    "tags": []
   },
   "source": [
    "### 13-Provide a query that shows the total number of tracks in each playlist. The Playlist name should be included on the resultant table."
   ]
  },
  {
   "cell_type": "code",
   "execution_count": 31,
   "metadata": {
    "execution": {
     "iopub.execute_input": "2021-01-31T06:58:41.172932Z",
     "iopub.status.busy": "2021-01-31T06:58:41.172375Z",
     "iopub.status.idle": "2021-01-31T06:58:41.238512Z",
     "shell.execute_reply": "2021-01-31T06:58:41.237904Z"
    },
    "papermill": {
     "duration": 0.110793,
     "end_time": "2021-01-31T06:58:41.238629",
     "exception": false,
     "start_time": "2021-01-31T06:58:41.127836",
     "status": "completed"
    },
    "tags": []
   },
   "outputs": [
    {
     "data": {
      "text/html": [
       "<div>\n",
       "<style scoped>\n",
       "    .dataframe tbody tr th:only-of-type {\n",
       "        vertical-align: middle;\n",
       "    }\n",
       "\n",
       "    .dataframe tbody tr th {\n",
       "        vertical-align: top;\n",
       "    }\n",
       "\n",
       "    .dataframe thead th {\n",
       "        text-align: right;\n",
       "    }\n",
       "</style>\n",
       "<table border=\"1\" class=\"dataframe\">\n",
       "  <thead>\n",
       "    <tr style=\"text-align: right;\">\n",
       "      <th></th>\n",
       "      <th>Playlist_name</th>\n",
       "      <th>Number_of_tracks</th>\n",
       "    </tr>\n",
       "  </thead>\n",
       "  <tbody>\n",
       "    <tr>\n",
       "      <th>0</th>\n",
       "      <td>Music</td>\n",
       "      <td>3290</td>\n",
       "    </tr>\n",
       "    <tr>\n",
       "      <th>1</th>\n",
       "      <td>Music</td>\n",
       "      <td>3290</td>\n",
       "    </tr>\n",
       "    <tr>\n",
       "      <th>2</th>\n",
       "      <td>90’s Music</td>\n",
       "      <td>1477</td>\n",
       "    </tr>\n",
       "    <tr>\n",
       "      <th>3</th>\n",
       "      <td>TV Shows</td>\n",
       "      <td>213</td>\n",
       "    </tr>\n",
       "    <tr>\n",
       "      <th>4</th>\n",
       "      <td>TV Shows</td>\n",
       "      <td>213</td>\n",
       "    </tr>\n",
       "    <tr>\n",
       "      <th>5</th>\n",
       "      <td>Classical</td>\n",
       "      <td>75</td>\n",
       "    </tr>\n",
       "    <tr>\n",
       "      <th>6</th>\n",
       "      <td>Brazilian Music</td>\n",
       "      <td>39</td>\n",
       "    </tr>\n",
       "    <tr>\n",
       "      <th>7</th>\n",
       "      <td>Heavy Metal Classic</td>\n",
       "      <td>26</td>\n",
       "    </tr>\n",
       "    <tr>\n",
       "      <th>8</th>\n",
       "      <td>Classical 101 - Deep Cuts</td>\n",
       "      <td>25</td>\n",
       "    </tr>\n",
       "    <tr>\n",
       "      <th>9</th>\n",
       "      <td>Classical 101 - Next Steps</td>\n",
       "      <td>25</td>\n",
       "    </tr>\n",
       "    <tr>\n",
       "      <th>10</th>\n",
       "      <td>Classical 101 - The Basics</td>\n",
       "      <td>25</td>\n",
       "    </tr>\n",
       "    <tr>\n",
       "      <th>11</th>\n",
       "      <td>Grunge</td>\n",
       "      <td>15</td>\n",
       "    </tr>\n",
       "    <tr>\n",
       "      <th>12</th>\n",
       "      <td>Music Videos</td>\n",
       "      <td>1</td>\n",
       "    </tr>\n",
       "    <tr>\n",
       "      <th>13</th>\n",
       "      <td>On-The-Go 1</td>\n",
       "      <td>1</td>\n",
       "    </tr>\n",
       "  </tbody>\n",
       "</table>\n",
       "</div>"
      ],
      "text/plain": [
       "                 Playlist_name  Number_of_tracks\n",
       "0                        Music              3290\n",
       "1                        Music              3290\n",
       "2                   90’s Music              1477\n",
       "3                     TV Shows               213\n",
       "4                     TV Shows               213\n",
       "5                    Classical                75\n",
       "6              Brazilian Music                39\n",
       "7          Heavy Metal Classic                26\n",
       "8    Classical 101 - Deep Cuts                25\n",
       "9   Classical 101 - Next Steps                25\n",
       "10  Classical 101 - The Basics                25\n",
       "11                      Grunge                15\n",
       "12                Music Videos                 1\n",
       "13                 On-The-Go 1                 1"
      ]
     },
     "execution_count": 31,
     "metadata": {},
     "output_type": "execute_result"
    }
   ],
   "source": [
    "sq('''select p.Name as Playlist_Name ,count(*) as number_of_tracks\n",
    "    from playlist_track as pt \n",
    "    left join playlist as p on p.playlist_id = pt.playlist_id \n",
    "    group by pt.playlist_id\n",
    "    order by 2 desc''')"
   ]
  },
  {
   "cell_type": "markdown",
   "metadata": {
    "papermill": {
     "duration": 0.041936,
     "end_time": "2021-01-31T06:58:41.321191",
     "exception": false,
     "start_time": "2021-01-31T06:58:41.279255",
     "status": "completed"
    },
    "tags": []
   },
   "source": [
    "### 14-Provide a query that shows all the Tracks, but displays no IDs. The resultant table should include the Album name, Media type and Genre."
   ]
  },
  {
   "cell_type": "code",
   "execution_count": 32,
   "metadata": {
    "execution": {
     "iopub.execute_input": "2021-01-31T06:58:41.408999Z",
     "iopub.status.busy": "2021-01-31T06:58:41.408122Z",
     "iopub.status.idle": "2021-01-31T06:58:41.437521Z",
     "shell.execute_reply": "2021-01-31T06:58:41.438064Z"
    },
    "papermill": {
     "duration": 0.074491,
     "end_time": "2021-01-31T06:58:41.438205",
     "exception": false,
     "start_time": "2021-01-31T06:58:41.363714",
     "status": "completed"
    },
    "tags": []
   },
   "outputs": [
    {
     "data": {
      "text/html": [
       "<div>\n",
       "<style scoped>\n",
       "    .dataframe tbody tr th:only-of-type {\n",
       "        vertical-align: middle;\n",
       "    }\n",
       "\n",
       "    .dataframe tbody tr th {\n",
       "        vertical-align: top;\n",
       "    }\n",
       "\n",
       "    .dataframe thead th {\n",
       "        text-align: right;\n",
       "    }\n",
       "</style>\n",
       "<table border=\"1\" class=\"dataframe\">\n",
       "  <thead>\n",
       "    <tr style=\"text-align: right;\">\n",
       "      <th></th>\n",
       "      <th>Track_name</th>\n",
       "      <th>Album_title</th>\n",
       "      <th>Name</th>\n",
       "      <th>Genre</th>\n",
       "    </tr>\n",
       "  </thead>\n",
       "  <tbody>\n",
       "    <tr>\n",
       "      <th>0</th>\n",
       "      <td>For Those About To Rock (We Salute You)</td>\n",
       "      <td>For Those About To Rock We Salute You</td>\n",
       "      <td>MPEG audio file</td>\n",
       "      <td>Rock</td>\n",
       "    </tr>\n",
       "    <tr>\n",
       "      <th>1</th>\n",
       "      <td>Balls to the Wall</td>\n",
       "      <td>Balls to the Wall</td>\n",
       "      <td>Protected AAC audio file</td>\n",
       "      <td>Rock</td>\n",
       "    </tr>\n",
       "    <tr>\n",
       "      <th>2</th>\n",
       "      <td>Fast As a Shark</td>\n",
       "      <td>Restless and Wild</td>\n",
       "      <td>Protected AAC audio file</td>\n",
       "      <td>Rock</td>\n",
       "    </tr>\n",
       "    <tr>\n",
       "      <th>3</th>\n",
       "      <td>Restless and Wild</td>\n",
       "      <td>Restless and Wild</td>\n",
       "      <td>Protected AAC audio file</td>\n",
       "      <td>Rock</td>\n",
       "    </tr>\n",
       "    <tr>\n",
       "      <th>4</th>\n",
       "      <td>Princess of the Dawn</td>\n",
       "      <td>Restless and Wild</td>\n",
       "      <td>Protected AAC audio file</td>\n",
       "      <td>Rock</td>\n",
       "    </tr>\n",
       "  </tbody>\n",
       "</table>\n",
       "</div>"
      ],
      "text/plain": [
       "                                Track_name  \\\n",
       "0  For Those About To Rock (We Salute You)   \n",
       "1                        Balls to the Wall   \n",
       "2                          Fast As a Shark   \n",
       "3                        Restless and Wild   \n",
       "4                     Princess of the Dawn   \n",
       "\n",
       "                             Album_title                      Name Genre  \n",
       "0  For Those About To Rock We Salute You           MPEG audio file  Rock  \n",
       "1                      Balls to the Wall  Protected AAC audio file  Rock  \n",
       "2                      Restless and Wild  Protected AAC audio file  Rock  \n",
       "3                      Restless and Wild  Protected AAC audio file  Rock  \n",
       "4                      Restless and Wild  Protected AAC audio file  Rock  "
      ]
     },
     "execution_count": 32,
     "metadata": {},
     "output_type": "execute_result"
    }
   ],
   "source": [
    "sq('''select t.Name as Track_name, a.title as Album_title ,m.name ,g.name as Genre\n",
    "    from track as t \n",
    "    left join media_type as m on m.media_type_id = t.media_type_id\n",
    "    left join genre as g on g.genre_id = t.genre_id\n",
    "    left join album as a on a.album_id = t.album_id ''').head()"
   ]
  },
  {
   "cell_type": "markdown",
   "metadata": {
    "papermill": {
     "duration": 0.068787,
     "end_time": "2021-01-31T06:58:41.553507",
     "exception": false,
     "start_time": "2021-01-31T06:58:41.484720",
     "status": "completed"
    },
    "tags": []
   },
   "source": [
    "### 15-Provide a query that shows all Invoices but includes the number of invoice line items."
   ]
  },
  {
   "cell_type": "code",
   "execution_count": 33,
   "metadata": {
    "execution": {
     "iopub.execute_input": "2021-01-31T06:58:41.653542Z",
     "iopub.status.busy": "2021-01-31T06:58:41.652941Z",
     "iopub.status.idle": "2021-01-31T06:58:41.689725Z",
     "shell.execute_reply": "2021-01-31T06:58:41.689078Z"
    },
    "papermill": {
     "duration": 0.080905,
     "end_time": "2021-01-31T06:58:41.689837",
     "exception": false,
     "start_time": "2021-01-31T06:58:41.608932",
     "status": "completed"
    },
    "tags": []
   },
   "outputs": [
    {
     "data": {
      "text/html": [
       "<div>\n",
       "<style scoped>\n",
       "    .dataframe tbody tr th:only-of-type {\n",
       "        vertical-align: middle;\n",
       "    }\n",
       "\n",
       "    .dataframe tbody tr th {\n",
       "        vertical-align: top;\n",
       "    }\n",
       "\n",
       "    .dataframe thead th {\n",
       "        text-align: right;\n",
       "    }\n",
       "</style>\n",
       "<table border=\"1\" class=\"dataframe\">\n",
       "  <thead>\n",
       "    <tr style=\"text-align: right;\">\n",
       "      <th></th>\n",
       "      <th>Invoice_id</th>\n",
       "      <th>Invoice_count</th>\n",
       "    </tr>\n",
       "  </thead>\n",
       "  <tbody>\n",
       "    <tr>\n",
       "      <th>0</th>\n",
       "      <td>1</td>\n",
       "      <td>16</td>\n",
       "    </tr>\n",
       "    <tr>\n",
       "      <th>1</th>\n",
       "      <td>2</td>\n",
       "      <td>10</td>\n",
       "    </tr>\n",
       "    <tr>\n",
       "      <th>2</th>\n",
       "      <td>3</td>\n",
       "      <td>2</td>\n",
       "    </tr>\n",
       "    <tr>\n",
       "      <th>3</th>\n",
       "      <td>4</td>\n",
       "      <td>8</td>\n",
       "    </tr>\n",
       "    <tr>\n",
       "      <th>4</th>\n",
       "      <td>5</td>\n",
       "      <td>17</td>\n",
       "    </tr>\n",
       "    <tr>\n",
       "      <th>...</th>\n",
       "      <td>...</td>\n",
       "      <td>...</td>\n",
       "    </tr>\n",
       "    <tr>\n",
       "      <th>609</th>\n",
       "      <td>610</td>\n",
       "      <td>7</td>\n",
       "    </tr>\n",
       "    <tr>\n",
       "      <th>610</th>\n",
       "      <td>611</td>\n",
       "      <td>2</td>\n",
       "    </tr>\n",
       "    <tr>\n",
       "      <th>611</th>\n",
       "      <td>612</td>\n",
       "      <td>12</td>\n",
       "    </tr>\n",
       "    <tr>\n",
       "      <th>612</th>\n",
       "      <td>613</td>\n",
       "      <td>9</td>\n",
       "    </tr>\n",
       "    <tr>\n",
       "      <th>613</th>\n",
       "      <td>614</td>\n",
       "      <td>13</td>\n",
       "    </tr>\n",
       "  </tbody>\n",
       "</table>\n",
       "<p>614 rows × 2 columns</p>\n",
       "</div>"
      ],
      "text/plain": [
       "     Invoice_id  Invoice_count\n",
       "0             1             16\n",
       "1             2             10\n",
       "2             3              2\n",
       "3             4              8\n",
       "4             5             17\n",
       "..          ...            ...\n",
       "609         610              7\n",
       "610         611              2\n",
       "611         612             12\n",
       "612         613              9\n",
       "613         614             13\n",
       "\n",
       "[614 rows x 2 columns]"
      ]
     },
     "execution_count": 33,
     "metadata": {},
     "output_type": "execute_result"
    }
   ],
   "source": [
    "sq('''select i.invoice_id ,count(*) as invoice_count\n",
    "    from invoice as i \n",
    "    left join invoice_line as il on il.invoice_id = i.invoice_id\n",
    "    group by 1''')"
   ]
  },
  {
   "cell_type": "markdown",
   "metadata": {
    "papermill": {
     "duration": 0.043969,
     "end_time": "2021-01-31T06:58:41.776189",
     "exception": false,
     "start_time": "2021-01-31T06:58:41.732220",
     "status": "completed"
    },
    "tags": []
   },
   "source": [
    "### 16-Provide a query that shows total sales made by each sales agent."
   ]
  },
  {
   "cell_type": "code",
   "execution_count": 34,
   "metadata": {
    "execution": {
     "iopub.execute_input": "2021-01-31T06:58:41.866277Z",
     "iopub.status.busy": "2021-01-31T06:58:41.865625Z",
     "iopub.status.idle": "2021-01-31T06:58:41.878210Z",
     "shell.execute_reply": "2021-01-31T06:58:41.877705Z"
    },
    "papermill": {
     "duration": 0.060427,
     "end_time": "2021-01-31T06:58:41.878328",
     "exception": false,
     "start_time": "2021-01-31T06:58:41.817901",
     "status": "completed"
    },
    "tags": []
   },
   "outputs": [
    {
     "data": {
      "text/html": [
       "<div>\n",
       "<style scoped>\n",
       "    .dataframe tbody tr th:only-of-type {\n",
       "        vertical-align: middle;\n",
       "    }\n",
       "\n",
       "    .dataframe tbody tr th {\n",
       "        vertical-align: top;\n",
       "    }\n",
       "\n",
       "    .dataframe thead th {\n",
       "        text-align: right;\n",
       "    }\n",
       "</style>\n",
       "<table border=\"1\" class=\"dataframe\">\n",
       "  <thead>\n",
       "    <tr style=\"text-align: right;\">\n",
       "      <th></th>\n",
       "      <th>Name</th>\n",
       "      <th>Toltal_sales</th>\n",
       "    </tr>\n",
       "  </thead>\n",
       "  <tbody>\n",
       "    <tr>\n",
       "      <th>0</th>\n",
       "      <td>Margaret Park</td>\n",
       "      <td>214</td>\n",
       "    </tr>\n",
       "    <tr>\n",
       "      <th>1</th>\n",
       "      <td>Jane Peacock</td>\n",
       "      <td>212</td>\n",
       "    </tr>\n",
       "    <tr>\n",
       "      <th>2</th>\n",
       "      <td>Steve Johnson</td>\n",
       "      <td>188</td>\n",
       "    </tr>\n",
       "    <tr>\n",
       "      <th>3</th>\n",
       "      <td>Andrew Adams</td>\n",
       "      <td>1</td>\n",
       "    </tr>\n",
       "    <tr>\n",
       "      <th>4</th>\n",
       "      <td>Nancy Edwards</td>\n",
       "      <td>1</td>\n",
       "    </tr>\n",
       "    <tr>\n",
       "      <th>5</th>\n",
       "      <td>Michael Mitchell</td>\n",
       "      <td>1</td>\n",
       "    </tr>\n",
       "    <tr>\n",
       "      <th>6</th>\n",
       "      <td>Robert King</td>\n",
       "      <td>1</td>\n",
       "    </tr>\n",
       "    <tr>\n",
       "      <th>7</th>\n",
       "      <td>Laura Callahan</td>\n",
       "      <td>1</td>\n",
       "    </tr>\n",
       "  </tbody>\n",
       "</table>\n",
       "</div>"
      ],
      "text/plain": [
       "               Name  Toltal_sales\n",
       "0     Margaret Park           214\n",
       "1      Jane Peacock           212\n",
       "2     Steve Johnson           188\n",
       "3      Andrew Adams             1\n",
       "4     Nancy Edwards             1\n",
       "5  Michael Mitchell             1\n",
       "6       Robert King             1\n",
       "7    Laura Callahan             1"
      ]
     },
     "execution_count": 34,
     "metadata": {},
     "output_type": "execute_result"
    }
   ],
   "source": [
    "sq('''select  e.First_Name || \" \" || e.last_Name as Name, count(*) as Toltal_Sales\n",
    "    from employee as e\n",
    "    left join customer as c on c.Support_Rep_Id  = e.employee_id \n",
    "    left join invoice as i on c.Customer_Id = i.Customer_Id\n",
    "    group by employee_id\n",
    "    order by 2 desc''')"
   ]
  },
  {
   "cell_type": "markdown",
   "metadata": {
    "papermill": {
     "duration": 0.044746,
     "end_time": "2021-01-31T06:58:41.966017",
     "exception": false,
     "start_time": "2021-01-31T06:58:41.921271",
     "status": "completed"
    },
    "tags": []
   },
   "source": [
    "###  17-Provide a query that shows the total sales per country. Which country's customers spent the most?"
   ]
  },
  {
   "cell_type": "code",
   "execution_count": 35,
   "metadata": {
    "execution": {
     "iopub.execute_input": "2021-01-31T06:58:42.061384Z",
     "iopub.status.busy": "2021-01-31T06:58:42.060723Z",
     "iopub.status.idle": "2021-01-31T06:58:42.075259Z",
     "shell.execute_reply": "2021-01-31T06:58:42.074701Z"
    },
    "papermill": {
     "duration": 0.064105,
     "end_time": "2021-01-31T06:58:42.075376",
     "exception": false,
     "start_time": "2021-01-31T06:58:42.011271",
     "status": "completed"
    },
    "tags": []
   },
   "outputs": [
    {
     "data": {
      "text/html": [
       "<div>\n",
       "<style scoped>\n",
       "    .dataframe tbody tr th:only-of-type {\n",
       "        vertical-align: middle;\n",
       "    }\n",
       "\n",
       "    .dataframe tbody tr th {\n",
       "        vertical-align: top;\n",
       "    }\n",
       "\n",
       "    .dataframe thead th {\n",
       "        text-align: right;\n",
       "    }\n",
       "</style>\n",
       "<table border=\"1\" class=\"dataframe\">\n",
       "  <thead>\n",
       "    <tr style=\"text-align: right;\">\n",
       "      <th></th>\n",
       "      <th>Billing_country</th>\n",
       "      <th>Country_sales</th>\n",
       "    </tr>\n",
       "  </thead>\n",
       "  <tbody>\n",
       "    <tr>\n",
       "      <th>0</th>\n",
       "      <td>USA</td>\n",
       "      <td>1040.49</td>\n",
       "    </tr>\n",
       "  </tbody>\n",
       "</table>\n",
       "</div>"
      ],
      "text/plain": [
       "  Billing_country  Country_sales\n",
       "0             USA        1040.49"
      ]
     },
     "execution_count": 35,
     "metadata": {},
     "output_type": "execute_result"
    }
   ],
   "source": [
    "sq('''select i.billing_country ,sum(total) as country_sales\n",
    "    from invoice as i\n",
    "    group by billing_country \n",
    "    order by 2 desc\n",
    "    limit 1''')"
   ]
  },
  {
   "cell_type": "markdown",
   "metadata": {
    "papermill": {
     "duration": 0.044464,
     "end_time": "2021-01-31T06:58:42.165947",
     "exception": false,
     "start_time": "2021-01-31T06:58:42.121483",
     "status": "completed"
    },
    "tags": []
   },
   "source": [
    "### 18-Which sales agent made the most in sales in 2009?"
   ]
  },
  {
   "cell_type": "code",
   "execution_count": 36,
   "metadata": {
    "execution": {
     "iopub.execute_input": "2021-01-31T06:58:42.254962Z",
     "iopub.status.busy": "2021-01-31T06:58:42.254387Z",
     "iopub.status.idle": "2021-01-31T06:58:42.266202Z",
     "shell.execute_reply": "2021-01-31T06:58:42.266792Z"
    },
    "papermill": {
     "duration": 0.058138,
     "end_time": "2021-01-31T06:58:42.266933",
     "exception": false,
     "start_time": "2021-01-31T06:58:42.208795",
     "status": "completed"
    },
    "tags": []
   },
   "outputs": [
    {
     "data": {
      "text/html": [
       "<div>\n",
       "<style scoped>\n",
       "    .dataframe tbody tr th:only-of-type {\n",
       "        vertical-align: middle;\n",
       "    }\n",
       "\n",
       "    .dataframe tbody tr th {\n",
       "        vertical-align: top;\n",
       "    }\n",
       "\n",
       "    .dataframe thead th {\n",
       "        text-align: right;\n",
       "    }\n",
       "</style>\n",
       "<table border=\"1\" class=\"dataframe\">\n",
       "  <thead>\n",
       "    <tr style=\"text-align: right;\">\n",
       "      <th></th>\n",
       "      <th>Agent_name</th>\n",
       "      <th>Total_sales</th>\n",
       "    </tr>\n",
       "  </thead>\n",
       "  <tbody>\n",
       "  </tbody>\n",
       "</table>\n",
       "</div>"
      ],
      "text/plain": [
       "Empty DataFrame\n",
       "Columns: [Agent_name, Total_sales]\n",
       "Index: []"
      ]
     },
     "execution_count": 36,
     "metadata": {},
     "output_type": "execute_result"
    }
   ],
   "source": [
    "sq('''select  e.First_Name||' '||e.last_Name as Agent_Name,count(*) as Total_Sales\n",
    "    from employee as e\n",
    "    left join customer as c on e.employee_id = c.Support_Rep_Id\n",
    "    left join invoice as i on i.customer_id = c.customer_id \n",
    "    where substr(i.invoice_date ,0,5) = \"2009\"\n",
    "    group by e.employee_id\n",
    "    order by 2''')"
   ]
  },
  {
   "cell_type": "markdown",
   "metadata": {
    "papermill": {
     "duration": 0.045588,
     "end_time": "2021-01-31T06:58:42.359116",
     "exception": false,
     "start_time": "2021-01-31T06:58:42.313528",
     "status": "completed"
    },
    "tags": []
   },
   "source": [
    "### 19-Which sales agent made the most in sales in 2010?"
   ]
  },
  {
   "cell_type": "code",
   "execution_count": 37,
   "metadata": {
    "execution": {
     "iopub.execute_input": "2021-01-31T06:58:42.451378Z",
     "iopub.status.busy": "2021-01-31T06:58:42.450774Z",
     "iopub.status.idle": "2021-01-31T06:58:42.462419Z",
     "shell.execute_reply": "2021-01-31T06:58:42.462895Z"
    },
    "papermill": {
     "duration": 0.059357,
     "end_time": "2021-01-31T06:58:42.463072",
     "exception": false,
     "start_time": "2021-01-31T06:58:42.403715",
     "status": "completed"
    },
    "tags": []
   },
   "outputs": [
    {
     "data": {
      "text/html": [
       "<div>\n",
       "<style scoped>\n",
       "    .dataframe tbody tr th:only-of-type {\n",
       "        vertical-align: middle;\n",
       "    }\n",
       "\n",
       "    .dataframe tbody tr th {\n",
       "        vertical-align: top;\n",
       "    }\n",
       "\n",
       "    .dataframe thead th {\n",
       "        text-align: right;\n",
       "    }\n",
       "</style>\n",
       "<table border=\"1\" class=\"dataframe\">\n",
       "  <thead>\n",
       "    <tr style=\"text-align: right;\">\n",
       "      <th></th>\n",
       "      <th>Employee_name</th>\n",
       "      <th>Total_sales</th>\n",
       "    </tr>\n",
       "  </thead>\n",
       "  <tbody>\n",
       "  </tbody>\n",
       "</table>\n",
       "</div>"
      ],
      "text/plain": [
       "Empty DataFrame\n",
       "Columns: [Employee_name, Total_sales]\n",
       "Index: []"
      ]
     },
     "execution_count": 37,
     "metadata": {},
     "output_type": "execute_result"
    }
   ],
   "source": [
    "sq('''select e.first_name||' '||e.last_name as Employee_name, count(*) as Total_sales\n",
    "    from employee as e \n",
    "    left join customer as c on c.support_rep_id = e.employee_id\n",
    "    left join invoice as i on i.customer_id = c.customer_id \n",
    "    where substr(i.invoice_date ,0,5) = \"2010\"\n",
    "    group by e.employee_id\n",
    "    order by 2 desc''')"
   ]
  },
  {
   "cell_type": "markdown",
   "metadata": {
    "papermill": {
     "duration": 0.044258,
     "end_time": "2021-01-31T06:58:42.551907",
     "exception": false,
     "start_time": "2021-01-31T06:58:42.507649",
     "status": "completed"
    },
    "tags": []
   },
   "source": [
    "### 20-Which sales agent made the most in sales over all?"
   ]
  },
  {
   "cell_type": "code",
   "execution_count": 38,
   "metadata": {
    "execution": {
     "iopub.execute_input": "2021-01-31T06:58:42.644183Z",
     "iopub.status.busy": "2021-01-31T06:58:42.643567Z",
     "iopub.status.idle": "2021-01-31T06:58:42.655349Z",
     "shell.execute_reply": "2021-01-31T06:58:42.655780Z"
    },
    "papermill": {
     "duration": 0.059812,
     "end_time": "2021-01-31T06:58:42.655932",
     "exception": false,
     "start_time": "2021-01-31T06:58:42.596120",
     "status": "completed"
    },
    "tags": []
   },
   "outputs": [
    {
     "data": {
      "text/html": [
       "<div>\n",
       "<style scoped>\n",
       "    .dataframe tbody tr th:only-of-type {\n",
       "        vertical-align: middle;\n",
       "    }\n",
       "\n",
       "    .dataframe tbody tr th {\n",
       "        vertical-align: top;\n",
       "    }\n",
       "\n",
       "    .dataframe thead th {\n",
       "        text-align: right;\n",
       "    }\n",
       "</style>\n",
       "<table border=\"1\" class=\"dataframe\">\n",
       "  <thead>\n",
       "    <tr style=\"text-align: right;\">\n",
       "      <th></th>\n",
       "      <th>Agent_name</th>\n",
       "      <th>Total_sales</th>\n",
       "    </tr>\n",
       "  </thead>\n",
       "  <tbody>\n",
       "    <tr>\n",
       "      <th>0</th>\n",
       "      <td>Margaret Park</td>\n",
       "      <td>214</td>\n",
       "    </tr>\n",
       "    <tr>\n",
       "      <th>1</th>\n",
       "      <td>Jane Peacock</td>\n",
       "      <td>212</td>\n",
       "    </tr>\n",
       "    <tr>\n",
       "      <th>2</th>\n",
       "      <td>Steve Johnson</td>\n",
       "      <td>188</td>\n",
       "    </tr>\n",
       "    <tr>\n",
       "      <th>3</th>\n",
       "      <td>Andrew Adams</td>\n",
       "      <td>1</td>\n",
       "    </tr>\n",
       "    <tr>\n",
       "      <th>4</th>\n",
       "      <td>Nancy Edwards</td>\n",
       "      <td>1</td>\n",
       "    </tr>\n",
       "    <tr>\n",
       "      <th>5</th>\n",
       "      <td>Michael Mitchell</td>\n",
       "      <td>1</td>\n",
       "    </tr>\n",
       "    <tr>\n",
       "      <th>6</th>\n",
       "      <td>Robert King</td>\n",
       "      <td>1</td>\n",
       "    </tr>\n",
       "    <tr>\n",
       "      <th>7</th>\n",
       "      <td>Laura Callahan</td>\n",
       "      <td>1</td>\n",
       "    </tr>\n",
       "  </tbody>\n",
       "</table>\n",
       "</div>"
      ],
      "text/plain": [
       "         Agent_name  Total_sales\n",
       "0     Margaret Park          214\n",
       "1      Jane Peacock          212\n",
       "2     Steve Johnson          188\n",
       "3      Andrew Adams            1\n",
       "4     Nancy Edwards            1\n",
       "5  Michael Mitchell            1\n",
       "6       Robert King            1\n",
       "7    Laura Callahan            1"
      ]
     },
     "execution_count": 38,
     "metadata": {},
     "output_type": "execute_result"
    }
   ],
   "source": [
    "sq('''select e.first_name||' '||e.last_name as Agent_name, count(*) as Total_sales\n",
    "    from employee as e\n",
    "    left join customer as c on c.support_rep_id = e.employee_id\n",
    "    left join invoice as i on c.customer_id = i.customer_id\n",
    "    group by e.employee_id\n",
    "    order by 2 desc''')"
   ]
  },
  {
   "cell_type": "markdown",
   "metadata": {
    "papermill": {
     "duration": 0.045976,
     "end_time": "2021-01-31T06:58:42.747750",
     "exception": false,
     "start_time": "2021-01-31T06:58:42.701774",
     "status": "completed"
    },
    "tags": []
   },
   "source": [
    "### 21-Provide a query that shows the most purchased track of 2013."
   ]
  },
  {
   "cell_type": "code",
   "execution_count": 39,
   "metadata": {
    "execution": {
     "iopub.execute_input": "2021-01-31T06:58:42.842625Z",
     "iopub.status.busy": "2021-01-31T06:58:42.841992Z",
     "iopub.status.idle": "2021-01-31T06:58:42.852302Z",
     "shell.execute_reply": "2021-01-31T06:58:42.851705Z"
    },
    "papermill": {
     "duration": 0.059054,
     "end_time": "2021-01-31T06:58:42.852418",
     "exception": false,
     "start_time": "2021-01-31T06:58:42.793364",
     "status": "completed"
    },
    "tags": []
   },
   "outputs": [
    {
     "data": {
      "text/html": [
       "<div>\n",
       "<style scoped>\n",
       "    .dataframe tbody tr th:only-of-type {\n",
       "        vertical-align: middle;\n",
       "    }\n",
       "\n",
       "    .dataframe tbody tr th {\n",
       "        vertical-align: top;\n",
       "    }\n",
       "\n",
       "    .dataframe thead th {\n",
       "        text-align: right;\n",
       "    }\n",
       "</style>\n",
       "<table border=\"1\" class=\"dataframe\">\n",
       "  <thead>\n",
       "    <tr style=\"text-align: right;\">\n",
       "      <th></th>\n",
       "      <th>Track_name</th>\n",
       "      <th>Track_sales</th>\n",
       "    </tr>\n",
       "  </thead>\n",
       "  <tbody>\n",
       "  </tbody>\n",
       "</table>\n",
       "</div>"
      ],
      "text/plain": [
       "Empty DataFrame\n",
       "Columns: [Track_name, Track_sales]\n",
       "Index: []"
      ]
     },
     "execution_count": 39,
     "metadata": {},
     "output_type": "execute_result"
    }
   ],
   "source": [
    "sq('''select t.name as Track_name,count(*) as Track_sales\n",
    "    from invoice as i\n",
    "    left join invoice_line as il on il.invoice_id = i.invoice_id\n",
    "    left join track as t on t.track_id = il.track_id\n",
    "    where invoice_date in ('2013')\n",
    "    group by t.track_id\n",
    "    order by 2 desc''')"
   ]
  },
  {
   "cell_type": "markdown",
   "metadata": {
    "papermill": {
     "duration": 0.044754,
     "end_time": "2021-01-31T06:58:42.942247",
     "exception": false,
     "start_time": "2021-01-31T06:58:42.897493",
     "status": "completed"
    },
    "tags": []
   },
   "source": [
    "### 22-Provide a query that shows the top 5 most purchased tracks over all."
   ]
  },
  {
   "cell_type": "code",
   "execution_count": 40,
   "metadata": {
    "execution": {
     "iopub.execute_input": "2021-01-31T06:58:43.038551Z",
     "iopub.status.busy": "2021-01-31T06:58:43.037925Z",
     "iopub.status.idle": "2021-01-31T06:58:43.082571Z",
     "shell.execute_reply": "2021-01-31T06:58:43.083056Z"
    },
    "papermill": {
     "duration": 0.094566,
     "end_time": "2021-01-31T06:58:43.083199",
     "exception": false,
     "start_time": "2021-01-31T06:58:42.988633",
     "status": "completed"
    },
    "tags": []
   },
   "outputs": [
    {
     "data": {
      "text/html": [
       "<div>\n",
       "<style scoped>\n",
       "    .dataframe tbody tr th:only-of-type {\n",
       "        vertical-align: middle;\n",
       "    }\n",
       "\n",
       "    .dataframe tbody tr th {\n",
       "        vertical-align: top;\n",
       "    }\n",
       "\n",
       "    .dataframe thead th {\n",
       "        text-align: right;\n",
       "    }\n",
       "</style>\n",
       "<table border=\"1\" class=\"dataframe\">\n",
       "  <thead>\n",
       "    <tr style=\"text-align: right;\">\n",
       "      <th></th>\n",
       "      <th>Track_name</th>\n",
       "      <th>Tack_sales</th>\n",
       "    </tr>\n",
       "  </thead>\n",
       "  <tbody>\n",
       "    <tr>\n",
       "      <th>0</th>\n",
       "      <td>War Pigs</td>\n",
       "      <td>31</td>\n",
       "    </tr>\n",
       "    <tr>\n",
       "      <th>1</th>\n",
       "      <td>Highway Chile</td>\n",
       "      <td>14</td>\n",
       "    </tr>\n",
       "    <tr>\n",
       "      <th>2</th>\n",
       "      <td>Are You Experienced?</td>\n",
       "      <td>14</td>\n",
       "    </tr>\n",
       "    <tr>\n",
       "      <th>3</th>\n",
       "      <td>Hey Joe</td>\n",
       "      <td>13</td>\n",
       "    </tr>\n",
       "    <tr>\n",
       "      <th>4</th>\n",
       "      <td>Third Stone From The Sun</td>\n",
       "      <td>13</td>\n",
       "    </tr>\n",
       "    <tr>\n",
       "      <th>...</th>\n",
       "      <td>...</td>\n",
       "      <td>...</td>\n",
       "    </tr>\n",
       "    <tr>\n",
       "      <th>1801</th>\n",
       "      <td>Samba De Uma Nota Só (One Note Samba)</td>\n",
       "      <td>1</td>\n",
       "    </tr>\n",
       "    <tr>\n",
       "      <th>1802</th>\n",
       "      <td>Garota De Ipanema</td>\n",
       "      <td>1</td>\n",
       "    </tr>\n",
       "    <tr>\n",
       "      <th>1803</th>\n",
       "      <td>Desafinado</td>\n",
       "      <td>1</td>\n",
       "    </tr>\n",
       "    <tr>\n",
       "      <th>1804</th>\n",
       "      <td>Princess of the Dawn</td>\n",
       "      <td>1</td>\n",
       "    </tr>\n",
       "    <tr>\n",
       "      <th>1805</th>\n",
       "      <td>Fast As a Shark</td>\n",
       "      <td>1</td>\n",
       "    </tr>\n",
       "  </tbody>\n",
       "</table>\n",
       "<p>1806 rows × 2 columns</p>\n",
       "</div>"
      ],
      "text/plain": [
       "                                 Track_name  Tack_sales\n",
       "0                                  War Pigs          31\n",
       "1                             Highway Chile          14\n",
       "2                      Are You Experienced?          14\n",
       "3                                   Hey Joe          13\n",
       "4                  Third Stone From The Sun          13\n",
       "...                                     ...         ...\n",
       "1801  Samba De Uma Nota Só (One Note Samba)           1\n",
       "1802                      Garota De Ipanema           1\n",
       "1803                             Desafinado           1\n",
       "1804                   Princess of the Dawn           1\n",
       "1805                        Fast As a Shark           1\n",
       "\n",
       "[1806 rows x 2 columns]"
      ]
     },
     "execution_count": 40,
     "metadata": {},
     "output_type": "execute_result"
    }
   ],
   "source": [
    "sq('''select t.name as Track_name ,count(*) as Tack_sales\n",
    "    from invoice_line as il\n",
    "    left join track as t on t.track_id = il.track_id\n",
    "    group by t.track_id\n",
    "    order by 2 desc ''')"
   ]
  },
  {
   "cell_type": "markdown",
   "metadata": {
    "papermill": {
     "duration": 0.045279,
     "end_time": "2021-01-31T06:58:43.175798",
     "exception": false,
     "start_time": "2021-01-31T06:58:43.130519",
     "status": "completed"
    },
    "tags": []
   },
   "source": [
    "### 23-Provide a query that shows the top 3 best selling artists."
   ]
  },
  {
   "cell_type": "code",
   "execution_count": 41,
   "metadata": {
    "execution": {
     "iopub.execute_input": "2021-01-31T06:58:43.273870Z",
     "iopub.status.busy": "2021-01-31T06:58:43.273217Z",
     "iopub.status.idle": "2021-01-31T06:58:54.004986Z",
     "shell.execute_reply": "2021-01-31T06:58:54.004372Z"
    },
    "papermill": {
     "duration": 10.783554,
     "end_time": "2021-01-31T06:58:54.005124",
     "exception": false,
     "start_time": "2021-01-31T06:58:43.221570",
     "status": "completed"
    },
    "tags": []
   },
   "outputs": [
    {
     "data": {
      "text/html": [
       "<div>\n",
       "<style scoped>\n",
       "    .dataframe tbody tr th:only-of-type {\n",
       "        vertical-align: middle;\n",
       "    }\n",
       "\n",
       "    .dataframe tbody tr th {\n",
       "        vertical-align: top;\n",
       "    }\n",
       "\n",
       "    .dataframe thead th {\n",
       "        text-align: right;\n",
       "    }\n",
       "</style>\n",
       "<table border=\"1\" class=\"dataframe\">\n",
       "  <thead>\n",
       "    <tr style=\"text-align: right;\">\n",
       "      <th></th>\n",
       "      <th>Artist_name</th>\n",
       "      <th>Artist_sales</th>\n",
       "    </tr>\n",
       "  </thead>\n",
       "  <tbody>\n",
       "    <tr>\n",
       "      <th>0</th>\n",
       "      <td>Iron Maiden</td>\n",
       "      <td>1013241</td>\n",
       "    </tr>\n",
       "    <tr>\n",
       "      <th>1</th>\n",
       "      <td>U2</td>\n",
       "      <td>642195</td>\n",
       "    </tr>\n",
       "    <tr>\n",
       "      <th>2</th>\n",
       "      <td>Led Zeppelin</td>\n",
       "      <td>542298</td>\n",
       "    </tr>\n",
       "  </tbody>\n",
       "</table>\n",
       "</div>"
      ],
      "text/plain": [
       "    Artist_name  Artist_sales\n",
       "0   Iron Maiden       1013241\n",
       "1            U2        642195\n",
       "2  Led Zeppelin        542298"
      ]
     },
     "execution_count": 41,
     "metadata": {},
     "output_type": "execute_result"
    }
   ],
   "source": [
    "sq('''select art.Name as Artist_name ,count(*) as Artist_sales\n",
    "    from invoice_line as i\n",
    "    left join track as t on i.track_id = i.track_id\n",
    "    left join album as a on a.album_id = t.album_id\n",
    "    left join artist as art on art.artist_id = a.artist_id \n",
    "    group by art.artist_id\n",
    "    order by 2 desc \n",
    "    limit 3''')"
   ]
  },
  {
   "cell_type": "code",
   "execution_count": null,
   "metadata": {
    "papermill": {
     "duration": 0.046442,
     "end_time": "2021-01-31T06:58:54.099614",
     "exception": false,
     "start_time": "2021-01-31T06:58:54.053172",
     "status": "completed"
    },
    "tags": []
   },
   "outputs": [],
   "source": []
  }
 ],
 "metadata": {
  "kernelspec": {
   "display_name": "Python 3",
   "language": "python",
   "name": "python3"
  },
  "language_info": {
   "codemirror_mode": {
    "name": "ipython",
    "version": 3
   },
   "file_extension": ".py",
   "mimetype": "text/x-python",
   "name": "python",
   "nbconvert_exporter": "python",
   "pygments_lexer": "ipython3",
   "version": "3.7.6"
  },
  "papermill": {
   "duration": 22.450462,
   "end_time": "2021-01-31T06:58:54.252882",
   "environment_variables": {},
   "exception": null,
   "input_path": "__notebook__.ipynb",
   "output_path": "__notebook__.ipynb",
   "parameters": {},
   "start_time": "2021-01-31T06:58:31.802420",
   "version": "2.1.0"
  }
 },
 "nbformat": 4,
 "nbformat_minor": 4
}
